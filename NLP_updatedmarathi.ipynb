{
  "cells": [
    {
      "cell_type": "code",
      "execution_count": null,
      "metadata": {
        "colab": {
          "base_uri": "https://localhost:8080/"
        },
        "id": "QiQjyonFFdRd",
        "outputId": "ff013cfc-8590-427e-bf41-741ecf280341"
      },
      "outputs": [
        {
          "output_type": "stream",
          "name": "stdout",
          "text": [
            "Requirement already satisfied: transformers in /usr/local/lib/python3.10/dist-packages (4.41.1)\n",
            "Requirement already satisfied: datasets in /usr/local/lib/python3.10/dist-packages (2.19.1)\n",
            "Requirement already satisfied: torch in /usr/local/lib/python3.10/dist-packages (2.3.0+cu121)\n",
            "Requirement already satisfied: filelock in /usr/local/lib/python3.10/dist-packages (from transformers) (3.14.0)\n",
            "Requirement already satisfied: huggingface-hub<1.0,>=0.23.0 in /usr/local/lib/python3.10/dist-packages (from transformers) (0.23.1)\n",
            "Requirement already satisfied: numpy>=1.17 in /usr/local/lib/python3.10/dist-packages (from transformers) (1.25.2)\n",
            "Requirement already satisfied: packaging>=20.0 in /usr/local/lib/python3.10/dist-packages (from transformers) (24.0)\n",
            "Requirement already satisfied: pyyaml>=5.1 in /usr/local/lib/python3.10/dist-packages (from transformers) (6.0.1)\n",
            "Requirement already satisfied: regex!=2019.12.17 in /usr/local/lib/python3.10/dist-packages (from transformers) (2024.5.15)\n",
            "Requirement already satisfied: requests in /usr/local/lib/python3.10/dist-packages (from transformers) (2.31.0)\n",
            "Requirement already satisfied: tokenizers<0.20,>=0.19 in /usr/local/lib/python3.10/dist-packages (from transformers) (0.19.1)\n",
            "Requirement already satisfied: safetensors>=0.4.1 in /usr/local/lib/python3.10/dist-packages (from transformers) (0.4.3)\n",
            "Requirement already satisfied: tqdm>=4.27 in /usr/local/lib/python3.10/dist-packages (from transformers) (4.66.4)\n",
            "Requirement already satisfied: pyarrow>=12.0.0 in /usr/local/lib/python3.10/dist-packages (from datasets) (14.0.2)\n",
            "Requirement already satisfied: pyarrow-hotfix in /usr/local/lib/python3.10/dist-packages (from datasets) (0.6)\n",
            "Requirement already satisfied: dill<0.3.9,>=0.3.0 in /usr/local/lib/python3.10/dist-packages (from datasets) (0.3.8)\n",
            "Requirement already satisfied: pandas in /usr/local/lib/python3.10/dist-packages (from datasets) (2.0.3)\n",
            "Requirement already satisfied: xxhash in /usr/local/lib/python3.10/dist-packages (from datasets) (3.4.1)\n",
            "Requirement already satisfied: multiprocess in /usr/local/lib/python3.10/dist-packages (from datasets) (0.70.16)\n",
            "Requirement already satisfied: fsspec[http]<=2024.3.1,>=2023.1.0 in /usr/local/lib/python3.10/dist-packages (from datasets) (2023.6.0)\n",
            "Requirement already satisfied: aiohttp in /usr/local/lib/python3.10/dist-packages (from datasets) (3.9.5)\n",
            "Requirement already satisfied: typing-extensions>=4.8.0 in /usr/local/lib/python3.10/dist-packages (from torch) (4.11.0)\n",
            "Requirement already satisfied: sympy in /usr/local/lib/python3.10/dist-packages (from torch) (1.12)\n",
            "Requirement already satisfied: networkx in /usr/local/lib/python3.10/dist-packages (from torch) (3.3)\n",
            "Requirement already satisfied: jinja2 in /usr/local/lib/python3.10/dist-packages (from torch) (3.1.4)\n",
            "Requirement already satisfied: nvidia-cuda-nvrtc-cu12==12.1.105 in /usr/local/lib/python3.10/dist-packages (from torch) (12.1.105)\n",
            "Requirement already satisfied: nvidia-cuda-runtime-cu12==12.1.105 in /usr/local/lib/python3.10/dist-packages (from torch) (12.1.105)\n",
            "Requirement already satisfied: nvidia-cuda-cupti-cu12==12.1.105 in /usr/local/lib/python3.10/dist-packages (from torch) (12.1.105)\n",
            "Requirement already satisfied: nvidia-cudnn-cu12==8.9.2.26 in /usr/local/lib/python3.10/dist-packages (from torch) (8.9.2.26)\n",
            "Requirement already satisfied: nvidia-cublas-cu12==12.1.3.1 in /usr/local/lib/python3.10/dist-packages (from torch) (12.1.3.1)\n",
            "Requirement already satisfied: nvidia-cufft-cu12==11.0.2.54 in /usr/local/lib/python3.10/dist-packages (from torch) (11.0.2.54)\n",
            "Requirement already satisfied: nvidia-curand-cu12==10.3.2.106 in /usr/local/lib/python3.10/dist-packages (from torch) (10.3.2.106)\n",
            "Requirement already satisfied: nvidia-cusolver-cu12==11.4.5.107 in /usr/local/lib/python3.10/dist-packages (from torch) (11.4.5.107)\n",
            "Requirement already satisfied: nvidia-cusparse-cu12==12.1.0.106 in /usr/local/lib/python3.10/dist-packages (from torch) (12.1.0.106)\n",
            "Requirement already satisfied: nvidia-nccl-cu12==2.20.5 in /usr/local/lib/python3.10/dist-packages (from torch) (2.20.5)\n",
            "Requirement already satisfied: nvidia-nvtx-cu12==12.1.105 in /usr/local/lib/python3.10/dist-packages (from torch) (12.1.105)\n",
            "Requirement already satisfied: triton==2.3.0 in /usr/local/lib/python3.10/dist-packages (from torch) (2.3.0)\n",
            "Requirement already satisfied: nvidia-nvjitlink-cu12 in /usr/local/lib/python3.10/dist-packages (from nvidia-cusolver-cu12==11.4.5.107->torch) (12.5.40)\n",
            "Requirement already satisfied: aiosignal>=1.1.2 in /usr/local/lib/python3.10/dist-packages (from aiohttp->datasets) (1.3.1)\n",
            "Requirement already satisfied: attrs>=17.3.0 in /usr/local/lib/python3.10/dist-packages (from aiohttp->datasets) (23.2.0)\n",
            "Requirement already satisfied: frozenlist>=1.1.1 in /usr/local/lib/python3.10/dist-packages (from aiohttp->datasets) (1.4.1)\n",
            "Requirement already satisfied: multidict<7.0,>=4.5 in /usr/local/lib/python3.10/dist-packages (from aiohttp->datasets) (6.0.5)\n",
            "Requirement already satisfied: yarl<2.0,>=1.0 in /usr/local/lib/python3.10/dist-packages (from aiohttp->datasets) (1.9.4)\n",
            "Requirement already satisfied: async-timeout<5.0,>=4.0 in /usr/local/lib/python3.10/dist-packages (from aiohttp->datasets) (4.0.3)\n",
            "Requirement already satisfied: charset-normalizer<4,>=2 in /usr/local/lib/python3.10/dist-packages (from requests->transformers) (3.3.2)\n",
            "Requirement already satisfied: idna<4,>=2.5 in /usr/local/lib/python3.10/dist-packages (from requests->transformers) (3.7)\n",
            "Requirement already satisfied: urllib3<3,>=1.21.1 in /usr/local/lib/python3.10/dist-packages (from requests->transformers) (2.0.7)\n",
            "Requirement already satisfied: certifi>=2017.4.17 in /usr/local/lib/python3.10/dist-packages (from requests->transformers) (2024.2.2)\n",
            "Requirement already satisfied: MarkupSafe>=2.0 in /usr/local/lib/python3.10/dist-packages (from jinja2->torch) (2.1.5)\n",
            "Requirement already satisfied: python-dateutil>=2.8.2 in /usr/local/lib/python3.10/dist-packages (from pandas->datasets) (2.8.2)\n",
            "Requirement already satisfied: pytz>=2020.1 in /usr/local/lib/python3.10/dist-packages (from pandas->datasets) (2023.4)\n",
            "Requirement already satisfied: tzdata>=2022.1 in /usr/local/lib/python3.10/dist-packages (from pandas->datasets) (2024.1)\n",
            "Requirement already satisfied: mpmath>=0.19 in /usr/local/lib/python3.10/dist-packages (from sympy->torch) (1.3.0)\n",
            "Requirement already satisfied: six>=1.5 in /usr/local/lib/python3.10/dist-packages (from python-dateutil>=2.8.2->pandas->datasets) (1.16.0)\n"
          ]
        }
      ],
      "source": [
        "!pip install transformers datasets torch"
      ]
    },
    {
      "cell_type": "code",
      "execution_count": null,
      "metadata": {
        "id": "3TrEw-kXCFv9"
      },
      "outputs": [],
      "source": [
        "from transformers import pipeline\n",
        "from datasets import load_dataset"
      ]
    },
    {
      "cell_type": "code",
      "execution_count": null,
      "metadata": {
        "id": "NrWx8OI-FOYi"
      },
      "outputs": [],
      "source": [
        "# Load the Marathi question answering model\n",
        "qa_pipeline = pipeline(\n",
        "    \"question-answering\",\n",
        "    model=\"l3cube-pune/marathi-question-answering-squad-bert\",\n",
        "    tokenizer=\"l3cube-pune/marathi-question-answering-squad-bert\"\n",
        ")"
      ]
    },
    {
      "cell_type": "code",
      "execution_count": null,
      "metadata": {
        "colab": {
          "base_uri": "https://localhost:8080/"
        },
        "id": "K00EA4roG0BT",
        "outputId": "1c9a2567-05ff-4682-a53e-1c391777266d"
      },
      "outputs": [
        {
          "output_type": "stream",
          "name": "stdout",
          "text": [
            "Example: 1\n",
            "Question: या सर्व डेटाचे वर्णन करणारे अंदाजे पंधरा शब्दांचे वाक्य तयार करा: मिडसमर हाऊस eatType restaurant; मिडसमर हाउस फूड चायनीज; मिडसमर हाऊस किंमत श्रेणी मध्यम; मिडसमर हाऊस ग्राहक रेटिंग 5 पैकी 3; ऑल बार वन जवळ मिडसमर हाऊस\n",
            "Context: मिडसमर हाऊस हे 3/5 ग्राहक रेटिंग असलेले माफक किमतीचे चीनी रेस्टॉरंट आहे, जे ऑल बार वन जवळ आहे.\n",
            "Answer: 3/5\n",
            "----------------\n",
            "Example: 2\n",
            "Question: या परिच्छेदात पुढे काय होते?\n",
            "\n",
            "मग ती कापसाच्या बॉलवर सुई घासते आणि मग ती पेन्सिलवर ढकलते आणि त्याभोवती धागा गुंडाळते. ती नंतर उत्पादनाचा एक बॉक्स धरते आणि नंतर एका वाडग्यात अनेक द्रव ओतते. ती\n",
            "तुमचे उत्तर यामधून निवडा: A. सॉसपॅन जोडते आणि ग्राइंडरमध्ये उत्पादन हलवते. बी. सिगारेट स्टाईल करण्यासाठी धागा चिमटा काढतो आणि मग निघून जातो. C. नंतर सुईला शाईत बुडवतो आणि पेन्सिलचा वापर करून तिच्या पायावर डिझाईन काढतो, शेवटी चिंधीने घासतो. डी. तिचे केस स्टाईल करण्यास सुरुवात करते आणि तिने तयार केलेली हेअरस्टाईल दर्शविण्यासाठी केसांचे टोक वेगळे करण्यापूर्वी ते अनेक वेळा कापते.\n",
            "Context: C. नंतर ती सुई शाईत बुडवते आणि पेन्सिलचा वापर करून तिच्या पायावर एक डिझाईन काढते, शेवटी चिंधीने घासते. या पर्यायामध्ये, ती सुई, पेन्सिल आणि धागा वापरण्याची प्रक्रिया सुरू ठेवत आहे, जी मागील वाक्यात ती काय करत होती याच्याशी सर्वात संबंधित आहे.\n",
            "Answer: डिझाईन\n",
            "----------------\n",
            "Example: 3\n",
            "Question: कृपया खालील प्रश्नाचे उत्तर द्या: मला विद्यार्थ्यांची परिच्छेद वाचण्याची आणि त्याबद्दलच्या प्रश्नांची उत्तरे देण्याची क्षमता तपासायची आहे. तुम्ही कृपया उताऱ्यासाठी एक चांगला प्रश्न विचारू शकता का \"1901 मध्ये, फेडरेशन ऑफ ऑस्ट्रेलिया ही प्रक्रिया होती ज्याद्वारे न्यू साउथ वेल्स, क्वीन्सलँड, दक्षिण ऑस्ट्रेलिया, तस्मानिया, व्हिक्टोरिया आणि वेस्टर्न ऑस्ट्रेलिया या सहा स्वतंत्र ब्रिटीश स्वयंशासित वसाहती तयार झाल्या. एक राष्ट्र त्यांनी स्वतंत्र वसाहती म्हणून विकसित केलेली सरकारची व्यवस्था ठेवली परंतु संपूर्ण राष्ट्राशी संबंधित बाबींसाठी जबाबदार असलेल्या वसाहती एकत्रितपणे कॉमनवेल्थचे राज्य बनल्या. ऑस्ट्रेलियाचे.\"?\n",
            "उत्तर:\n",
            "Context: उताऱ्यावर आधारित, 1901 फेडरेशन ऑफ ऑस्ट्रेलियाच्या प्राथमिक प्रेरणा आणि परिणामांची चर्चा करा, ज्यात संघराज्य सरकारच्या भूमिका आणि जबाबदाऱ्या, तसेच सहभागी असलेल्या वैयक्तिक राज्यांच्या सतत सरकारी संरचनांचा समावेश आहे.\n",
            "Answer: 1901 फेडरेशन ऑफ ऑस्ट्रेलियाच्या\n",
            "----------------\n",
            "Example: 4\n",
            "Question: जेम्स एक टीव्ही शो चालवतो आणि त्यात 5 मुख्य पात्रे आणि 4 लहान पात्रे आहेत. तो लहान पात्रांना प्रत्येक भागासाठी $15,000 देतो. त्याने प्रमुख पात्रांना तिप्पट पैसे दिले. तो प्रति एपिसोड किती देतो? चला शक्य तितके अचूक असू द्या.\n",
            "Context: जेम्स लहान पात्रांना प्रत्येक भागासाठी $15,000 देते. 4 किरकोळ वर्ण असल्याने, तो त्यांना एकूण 4 * $15,000 = $60,000 प्रति एपिसोड देतो.\n",
            "\n",
            "प्रमुख पात्रांना तिप्पट पैसे दिले जातात. तर, प्रत्येक प्रमुख पात्राला 3 * $15,000 = $45,000 प्रति एपिसोड दिले जातात.\n",
            "\n",
            "5 मुख्य पात्रे आहेत, म्हणून तो त्यांना एकूण 5 * $45,000 = $225,000 प्रति एपिसोड देतो.\n",
            "\n",
            "एकूण, जेम्स $225,000 (प्रमुख वर्ण) + $60,000 (लहान वर्ण) = $285,000 प्रति एपिसोड देतात.\n",
            "Answer: 5 मुख्य पात्रे आहेत, म्हणून तो त्यांना एकूण 5 * $45,000\n",
            "----------------\n",
            "Example: 5\n",
            "Question: जाणीवेचा प्रवाह पाहता तर्कसंगत प्रश्न आणि उत्तर द्या. तर्क: येथे गेम व्हॉलीबॉलचा संदर्भ देते जेथे महिला बीच व्हॉलीबॉल खेळाडू बॉल सर्व्ह करते.\n",
            " प्रश्न आणि उत्तर:\n",
            "Context: प्रश्न: महिला बीच व्हॉलीबॉल खेळाडूला खेळात बॉल प्रभावीपणे सर्व्ह करण्यासाठी योग्य तंत्र कोणते आहे?\n",
            "\n",
            "उत्तर: बीच व्हॉलीबॉलमध्ये बॉलला प्रभावीपणे सर्व्ह करण्यासाठी, महिला खेळाडूने प्री-सर्व्ह दिनचर्याचा वापर केला पाहिजे, पाय खांद्या-रुंदीच्या अंतरावर संतुलित स्थितीत उभे राहावे, न मारणारा हात लांब करताना योग्य उंचीवर चेंडू टॉस करावा, आणि एक शक्तिशाली आणि अचूक सर्व्ह करण्यासाठी खांदा, हात आणि मनगटाच्या हालचालींचा वापर करा. प्लेअरच्या सामर्थ्यानुसार आणि इच्छित परिणामावर अवलंबून अंडरहँड, टॉपस्पिन आणि फ्लोट सारख्या भिन्न सर्व्ह शैली वापरल्या जाऊ शकतात.\n",
            "Answer: बीच व्हॉलीबॉलमध्ये\n",
            "----------------\n",
            "Example: 6\n",
            "Question: बहु-निवड प्रश्न: खालील ट्विटची भावना काय आहे?\n",
            "ट्विट: @nikkigreen मी तुम्हाला सांगितले\n",
            "यामधून तुमचे उत्तर निवडा:\n",
            " + नकारात्मक;\n",
            " + सकारात्मक;\n",
            "Context: ट्विटची भावना निश्चित करण्यासाठी, आम्हाला त्याचे सखोल विश्लेषण करणे आवश्यक आहे.\n",
            "\n",
            "ट्विट: @nikkigreen मी तुम्हाला सांगितले\n",
            "\n",
            "पायरी 1: भावनिक भार असलेले शब्द किंवा वाक्ये ओळखा.\n",
            "या ट्विटमध्ये, परीक्षण करण्यासारखे एकच वाक्यांश आहे: \"मी तुम्हाला सांगितले.\"\n",
            "\n",
            "पायरी 2: ओळखलेल्या शब्दांची किंवा वाक्प्रचारांची भावना निश्चित करा.\n",
            "\"मी तुम्हाला सांगितले\" संदर्भानुसार विविध भावना असू शकतात. ते सकारात्मक, नकारात्मक किंवा तटस्थ असू शकते.\n",
            "\n",
            "पायरी 3: ट्विटचा एकूण संदर्भ विचारात घ्या.\n",
            "दुर्दैवाने, अधिक संदर्भाशिवाय, ट्विटची नेमकी भावना निश्चित करणे अशक्य आहे.\n",
            "\n",
            "परिणामी, अधिक संदर्भित माहितीशिवाय, आम्ही प्रदान केलेल्या पर्यायांमधून, सकारात्मक किंवा नकारात्मक, आत्मविश्वासाने उत्तर निवडू शकत नाही.\n",
            "Answer: सकारात्मक किंवा नकारात्मक, आत्मविश्वासाने उत्तर निवडू शकत नाही.\n",
            "----------------\n",
            "Example: 7\n",
            "Question: जॉन एक भयानक लेखक होता. सराव करण्यासाठी, त्याचे शिक्षक सुचवतात की त्याला त्याच्या ओळखीच्या लोकांचा विचार करा आणि काय करावे?\n",
            "पर्याय:\n",
            "- कादंबऱ्या लिहा\n",
            "- जाहिरात फर्म\n",
            "- पत्र लिहा\n",
            "- नोट्स लिहा\n",
            "- कविता लिहा\n",
            "चला आता विचार करूया! चरण-दर-चरण तर्क:\n",
            "Context: पायरी 1: परिस्थितीचे विश्लेषण करा - जॉन एक भयानक लेखक आहे आणि त्याचे कौशल्य सुधारण्यासाठी त्याला सराव आवश्यक आहे. त्याचे शिक्षक त्याला सराव कसा करावा याबद्दल सल्ला देतात.\n",
            "\n",
            "पायरी 2: दिलेल्या पर्यायांचा विचार करा:\n",
            "- कादंबऱ्या लिहा: नुकतेच त्यांचे लेखन कौशल्य सुधारण्यास सुरुवात करणाऱ्या व्यक्तीसाठी हे थोडेसे जबरदस्त असू शकते, कारण कादंबऱ्या लांब असतात आणि त्यांना खूप वचनबद्धतेची आवश्यकता असते.\n",
            "- जाहिरात फर्म: हा पर्याय लेखनाच्या सरावाशी थेट जोडलेला दिसत नाही, कारण तो लेखन क्रियाकलाप ऐवजी व्यवसायाच्या प्रकाराचा संदर्भ देतो.\n",
            "- अक्षरे लिहा: लेखनाचा सराव करण्यासाठी अक्षरे लिहिणे हा एक चांगला मार्ग असू शकतो, विशेषत: जॉन हे करत असताना त्याच्या ओळखीच्या लोकांबद्दल विचार करू शकतो. हे लेखन अधिक वैयक्तिक आणि आकर्षक बनवते.\n",
            "- नोट्स लिहा: नोट्स लिहिणे काही प्रमाणात लेखन कौशल्य सुधारण्यास मदत करू शकते, परंतु जॉनला आवश्यक असलेल्या सतत सरावासाठी परवानगी देऊ शकत नाही.\n",
            "- कविता लिहा: लेखनाचा सराव करण्याचा हा आणखी एक सर्जनशील पर्याय आहे, परंतु जॉनला लेखनाच्या मूलभूत गोष्टींशी संघर्ष होत असेल आणि कविता सारख्या अधिक प्रगत प्रकारांमध्ये अद्याप सोयीस्कर नसेल तर हा सर्वोत्तम पर्याय असू शकत नाही.\n",
            "\n",
            "पायरी 3: विश्लेषणावर आधारित सर्वात योग्य पर्याय निवडा:\n",
            "पर्याय दिल्यास, जॉनला त्याच्या ओळखीच्या लोकांचा विचार करताना पत्रे लिहिणे हा सर्वोत्कृष्ट सल्ला आहे असे दिसते. हे त्याला इतरांशी संवाद साधण्यावर लक्ष केंद्रित करताना वैयक्तिक, आकर्षक पद्धतीने लिहिण्याचा सराव करण्यास अनुमती देईल, ज्यामुळे त्याला त्याचे कौशल्य सुधारण्यास मदत होईल.\n",
            "Answer: त्याचे कौशल्य सुधारण्यासाठी\n",
            "----------------\n",
            "Example: 8\n",
            "Question: प्रिमिस: एक माणूस लाकडी बेंचसमोर इनलाइन स्केटिंग करत आहे.\n",
            "\n",
            "गृहीतक: एक माणूस बेंचसमोर स्केटिंग करताना मजा करत आहे.\n",
            "\n",
            ".योग्य उत्तर निवडा: आधार दिल्यास, आपण गृहीतक निष्कर्ष काढू शकतो का?\n",
            "\n",
            "यामधून निवडा: अ). होय ब). c) सांगणे शक्य नाही. नाही\n",
            "Context: b). सांगणे शक्य नाही\n",
            "\n",
            "औचित्य: जरी माणूस लाकडी बेंचसमोर इनलाइन स्केटिंग करत असला तरी, त्याच्या भावना स्पष्टपणे नमूद केल्या नसल्यामुळे तो मजा करत आहे की नाही हे आपण निष्कर्ष काढू शकत नाही.\n",
            "Answer: सांगणे शक्य नाही\n",
            "----------------\n",
            "Example: 9\n",
            "Question: प्रश्न: या परिच्छेदात दिलेल्या खालील प्रश्नाचे उत्तर द्या: मूत्रपिंड देखील हार्मोन्स स्राव करतात जे होमिओस्टॅसिस राखण्यास मदत करतात. उदाहरणार्थ, ते एक संप्रेरक तयार करतात जे अस्थिमज्जा उत्तेजित करतात जेंव्हा जास्त गरज असते तेव्हा लाल रक्तपेशी निर्माण करतात. ते एक संप्रेरक देखील स्राव करतात जे रक्तदाब नियंत्रित करतात आणि ते सामान्य श्रेणीत ठेवतात. प्रश्न: कोणते अवयव होमिओस्टॅसिस राखण्यास मदत करणारे हार्मोन्स स्राव करतात? अ:\n",
            "उत्तर आहे:\n",
            "Context: मूत्रपिंड हे असे अवयव आहेत जे होमिओस्टॅसिस राखण्यात मदत करण्यासाठी हार्मोन्स स्राव करतात. ते एक संप्रेरक तयार करतात जे आवश्यकतेनुसार लाल रक्तपेशी तयार करण्यासाठी अस्थिमज्जा उत्तेजित करतात आणि ते एक संप्रेरक देखील स्राव करतात जे रक्तदाब नियंत्रित करतात आणि सामान्य श्रेणीत ठेवतात.\n",
            "Answer: मूत्रपिंड\n",
            "----------------\n",
            "Example: 10\n",
            "Question: पुढील लेखाबद्दल एक प्रश्न लिहा: बुकेनियर्सवर त्यांच्या घरच्या विजयानंतर, पॅकर्स त्यांच्या NFC नॉर्थ शत्रू डेट्रॉइट लायन्ससोबत 12व्या थँक्सगिव्हिंग द्वंद्वयुद्धासाठी फोर्ड फील्डला गेले. पहिल्या क्वार्टरमध्ये स्कोअरलेस झाल्यानंतर, ग्रीन बेने दुसऱ्या क्वार्टरमध्ये क्वार्टरबॅक ॲरॉन रॉजर्सने 3-यार्ड टचडाउन पासवर ग्रेग जेनिंग्सला वाइड रिसीव्हर शोधून गेमचा ओपनिंग पंच दिला. पॅकर्सने तिसऱ्या तिमाहीत फुलबॅक जॉन कुहनकडून 1-यार्ड टचडाउन रनसह त्यांची आघाडी वाढवली, त्यानंतर रॉजर्सने 65-यार्ड टचडाउन पासवर वाइड रिसीव्हर जेम्स जोन्सशी कनेक्ट केले आणि किकर मेसन क्रॉसबीकडून 35-यार्ड फील्ड गोल केला. लायन्सने चौथ्या क्वार्टरमध्ये केलँड विल्यम्सने 16-यार्ड टचडाउन रन बॅक करून उत्तर दिले आणि क्वार्टरबॅक मॅथ्यू स्टॅफोर्डकडून वाइड रिसीव्हर टायटस यंगला दोन-पॉइंट रूपांतरण पास), तरीही ग्रीन बेने क्रॉसबीने 32-यार्ड फील्डला खिळले. ध्येय डेट्रॉईटने स्टॅफोर्डने वाइड रिसीव्हर केल्विन जॉन्सनला 3-यार्ड टचडाउन पास पूर्ण करून गेम बंद केला. या विजयासह, पॅकर्सने फ्रँचायझी इतिहासातील पहिली 11-0 अशी सुरुवात केली, 1962 च्या संघाला 10-0 ने पराभूत केले आणि सीझननंतरच्या खेळासह 14-1 ने पूर्ण केले. रॉजर्स (307 यार्डसाठी 22/32, 2 TDs) FOX च्या 2011 Galloping Gobbler Award Winner वर NFL असे नाव देण्यात आले.\n",
            "\n",
            "लेखाबद्दल प्रश्नः\n",
            "Context: पॅकर्स आणि लायन्स यांच्यातील थँक्सगिव्हिंग फुटबॉल गेम दरम्यान काय घडले आणि पॅकर्सने त्यांच्या विजयासह कोणता विक्रम साधला?\n",
            "Answer: त्यांच्या विजयासह कोणता विक्रम\n",
            "----------------\n"
          ]
        }
      ],
      "source": [
        "# Load the Marathi ORCA dataset\n",
        "dataset = load_dataset(\"amitagh/marathi-orca-v05\")\n",
        "\n",
        "# Iterate through the dataset and perform question answering for first 10 rows\n",
        "for i in range(10):\n",
        "  example=dataset['train'][i]\n",
        "  context = example[\"mar_response\"]\n",
        "  question = example[\"mar_question\"]\n",
        "\n",
        "    # Perform question answering\n",
        "  result = qa_pipeline(question=question, context=context)\n",
        "\n",
        "  print('Example:',i+1)\n",
        "  print(\"Question:\", question)\n",
        "  print(\"Context:\", context)\n",
        "  print(\"Answer:\", result[\"answer\"])\n",
        "  print(\"----------------\")"
      ]
    },
    {
      "cell_type": "code",
      "source": [],
      "metadata": {
        "id": "GcMWFquruG8z"
      },
      "execution_count": null,
      "outputs": []
    },
    {
      "cell_type": "code",
      "source": [
        "from nltk.translate.bleu_score import sentence_bleu, SmoothingFunction\n",
        "\n",
        "def calculate_bleu_score(reference, candidate):\n",
        "    \"\"\"\n",
        "    Calculates BLEU score for a candidate sentence against a reference sentence.\n",
        "\n",
        "    Args:\n",
        "        reference (str): The reference sentence.\n",
        "        candidate (str): The candidate sentence to be evaluated.\n",
        "\n",
        "    Returns:\n",
        "        float: The BLEU score of the candidate sentence.\n",
        "    \"\"\"\n",
        "    # Split sentences into tokens (words)\n",
        "    reference_tokens = reference.split()\n",
        "    candidate_tokens = candidate.split()\n",
        "\n",
        "    # Calculate BLEU score using NLTK's sentence_bleu function\n",
        "    bleu_score = sentence_bleu([reference_tokens], candidate_tokens, smoothing_function=SmoothingFunction().method4)\n",
        "\n",
        "    return bleu_score\n",
        "\n"
      ],
      "metadata": {
        "id": "VkHCY5jds8D-"
      },
      "execution_count": null,
      "outputs": []
    },
    {
      "cell_type": "code",
      "source": [
        "other_qa_pipeline = pipeline(\n",
        "    \"question-answering\",\n",
        "    model=\"l3cube-pune/marathi-question-answering-squad-bert\",\n",
        "    tokenizer=\"l3cube-pune/marathi-question-answering-squad-bert\"\n",
        ")\n",
        "\n",
        "# Iterate through the dataset\n",
        "for i in range(10):\n",
        "  example = dataset['train'][i]\n",
        "  context = example[\"mar_response\"]\n",
        "  question = example[\"mar_question\"]\n",
        "\n",
        "  # Perform question answering with both models\n",
        "  result1 = qa_pipeline(question=question, context=context)\n",
        "  answer1 = result1[\"answer\"]\n",
        "\n",
        "  result2 = other_qa_pipeline(question=question, context=context)\n",
        "  answer2 = result2[\"answer\"]\n",
        "\n",
        "  # Calculate BLEU score for each answer against the reference question\n",
        "  bleu_score1 = calculate_bleu_score(question, answer1)\n",
        "  bleu_score2 = calculate_bleu_score(question, answer2)\n",
        "\n",
        "  print('Example:', i + 1)\n",
        "  print(\"Question:\", question)\n",
        "  print(\"Context:\", context)\n",
        "  print(\"Answer (Model 1):\", answer1)\n",
        "  print(\"BLEU Score (Model 1):\", bleu_score1)\n",
        "  print(\"Answer (Model 2):\", answer2)\n",
        "  print(\"BLEU Score (Model 2):\", bleu_score2)\n",
        "  print(\"----------------\")\n"
      ],
      "metadata": {
        "colab": {
          "base_uri": "https://localhost:8080/"
        },
        "collapsed": true,
        "id": "ny5iwqDFtWhF",
        "outputId": "e59666d4-846b-4f5f-f141-2dcbd8804308"
      },
      "execution_count": null,
      "outputs": [
        {
          "output_type": "stream",
          "name": "stdout",
          "text": [
            "Example: 1\n",
            "Question: या सर्व डेटाचे वर्णन करणारे अंदाजे पंधरा शब्दांचे वाक्य तयार करा: मिडसमर हाऊस eatType restaurant; मिडसमर हाउस फूड चायनीज; मिडसमर हाऊस किंमत श्रेणी मध्यम; मिडसमर हाऊस ग्राहक रेटिंग 5 पैकी 3; ऑल बार वन जवळ मिडसमर हाऊस\n",
            "Context: मिडसमर हाऊस हे 3/5 ग्राहक रेटिंग असलेले माफक किमतीचे चीनी रेस्टॉरंट आहे, जे ऑल बार वन जवळ आहे.\n",
            "Answer (Model 1): 3/5\n",
            "BLEU Score (Model 1): 0\n",
            "Answer (Model 2): 3/5\n",
            "BLEU Score (Model 2): 0\n",
            "----------------\n",
            "Example: 2\n",
            "Question: या परिच्छेदात पुढे काय होते?\n",
            "\n",
            "मग ती कापसाच्या बॉलवर सुई घासते आणि मग ती पेन्सिलवर ढकलते आणि त्याभोवती धागा गुंडाळते. ती नंतर उत्पादनाचा एक बॉक्स धरते आणि नंतर एका वाडग्यात अनेक द्रव ओतते. ती\n",
            "तुमचे उत्तर यामधून निवडा: A. सॉसपॅन जोडते आणि ग्राइंडरमध्ये उत्पादन हलवते. बी. सिगारेट स्टाईल करण्यासाठी धागा चिमटा काढतो आणि मग निघून जातो. C. नंतर सुईला शाईत बुडवतो आणि पेन्सिलचा वापर करून तिच्या पायावर डिझाईन काढतो, शेवटी चिंधीने घासतो. डी. तिचे केस स्टाईल करण्यास सुरुवात करते आणि तिने तयार केलेली हेअरस्टाईल दर्शविण्यासाठी केसांचे टोक वेगळे करण्यापूर्वी ते अनेक वेळा कापते.\n",
            "Context: C. नंतर ती सुई शाईत बुडवते आणि पेन्सिलचा वापर करून तिच्या पायावर एक डिझाईन काढते, शेवटी चिंधीने घासते. या पर्यायामध्ये, ती सुई, पेन्सिल आणि धागा वापरण्याची प्रक्रिया सुरू ठेवत आहे, जी मागील वाक्यात ती काय करत होती याच्याशी सर्वात संबंधित आहे.\n",
            "Answer (Model 1): डिझाईन\n",
            "BLEU Score (Model 1): 1.1089390193121365e-40\n",
            "Answer (Model 2): डिझाईन\n",
            "BLEU Score (Model 2): 1.1089390193121365e-40\n",
            "----------------\n",
            "Example: 3\n",
            "Question: कृपया खालील प्रश्नाचे उत्तर द्या: मला विद्यार्थ्यांची परिच्छेद वाचण्याची आणि त्याबद्दलच्या प्रश्नांची उत्तरे देण्याची क्षमता तपासायची आहे. तुम्ही कृपया उताऱ्यासाठी एक चांगला प्रश्न विचारू शकता का \"1901 मध्ये, फेडरेशन ऑफ ऑस्ट्रेलिया ही प्रक्रिया होती ज्याद्वारे न्यू साउथ वेल्स, क्वीन्सलँड, दक्षिण ऑस्ट्रेलिया, तस्मानिया, व्हिक्टोरिया आणि वेस्टर्न ऑस्ट्रेलिया या सहा स्वतंत्र ब्रिटीश स्वयंशासित वसाहती तयार झाल्या. एक राष्ट्र त्यांनी स्वतंत्र वसाहती म्हणून विकसित केलेली सरकारची व्यवस्था ठेवली परंतु संपूर्ण राष्ट्राशी संबंधित बाबींसाठी जबाबदार असलेल्या वसाहती एकत्रितपणे कॉमनवेल्थचे राज्य बनल्या. ऑस्ट्रेलियाचे.\"?\n",
            "उत्तर:\n",
            "Context: उताऱ्यावर आधारित, 1901 फेडरेशन ऑफ ऑस्ट्रेलियाच्या प्राथमिक प्रेरणा आणि परिणामांची चर्चा करा, ज्यात संघराज्य सरकारच्या भूमिका आणि जबाबदाऱ्या, तसेच सहभागी असलेल्या वैयक्तिक राज्यांच्या सतत सरकारी संरचनांचा समावेश आहे.\n",
            "Answer (Model 1): 1901 फेडरेशन ऑफ ऑस्ट्रेलियाच्या\n",
            "BLEU Score (Model 1): 1.2101895047620428e-09\n",
            "Answer (Model 2): 1901 फेडरेशन ऑफ ऑस्ट्रेलियाच्या\n",
            "BLEU Score (Model 2): 1.2101895047620428e-09\n",
            "----------------\n",
            "Example: 4\n",
            "Question: जेम्स एक टीव्ही शो चालवतो आणि त्यात 5 मुख्य पात्रे आणि 4 लहान पात्रे आहेत. तो लहान पात्रांना प्रत्येक भागासाठी $15,000 देतो. त्याने प्रमुख पात्रांना तिप्पट पैसे दिले. तो प्रति एपिसोड किती देतो? चला शक्य तितके अचूक असू द्या.\n",
            "Context: जेम्स लहान पात्रांना प्रत्येक भागासाठी $15,000 देते. 4 किरकोळ वर्ण असल्याने, तो त्यांना एकूण 4 * $15,000 = $60,000 प्रति एपिसोड देतो.\n",
            "\n",
            "प्रमुख पात्रांना तिप्पट पैसे दिले जातात. तर, प्रत्येक प्रमुख पात्राला 3 * $15,000 = $45,000 प्रति एपिसोड दिले जातात.\n",
            "\n",
            "5 मुख्य पात्रे आहेत, म्हणून तो त्यांना एकूण 5 * $45,000 = $225,000 प्रति एपिसोड देतो.\n",
            "\n",
            "एकूण, जेम्स $225,000 (प्रमुख वर्ण) + $60,000 (लहान वर्ण) = $285,000 प्रति एपिसोड देतात.\n",
            "Answer (Model 1): 5 मुख्य पात्रे आहेत, म्हणून तो त्यांना एकूण 5 * $45,000\n",
            "BLEU Score (Model 1): 0.00978524922105512\n",
            "Answer (Model 2): 5 मुख्य पात्रे आहेत, म्हणून तो त्यांना एकूण 5 * $45,000\n",
            "BLEU Score (Model 2): 0.00978524922105512\n",
            "----------------\n",
            "Example: 5\n",
            "Question: जाणीवेचा प्रवाह पाहता तर्कसंगत प्रश्न आणि उत्तर द्या. तर्क: येथे गेम व्हॉलीबॉलचा संदर्भ देते जेथे महिला बीच व्हॉलीबॉल खेळाडू बॉल सर्व्ह करते.\n",
            " प्रश्न आणि उत्तर:\n",
            "Context: प्रश्न: महिला बीच व्हॉलीबॉल खेळाडूला खेळात बॉल प्रभावीपणे सर्व्ह करण्यासाठी योग्य तंत्र कोणते आहे?\n",
            "\n",
            "उत्तर: बीच व्हॉलीबॉलमध्ये बॉलला प्रभावीपणे सर्व्ह करण्यासाठी, महिला खेळाडूने प्री-सर्व्ह दिनचर्याचा वापर केला पाहिजे, पाय खांद्या-रुंदीच्या अंतरावर संतुलित स्थितीत उभे राहावे, न मारणारा हात लांब करताना योग्य उंचीवर चेंडू टॉस करावा, आणि एक शक्तिशाली आणि अचूक सर्व्ह करण्यासाठी खांदा, हात आणि मनगटाच्या हालचालींचा वापर करा. प्लेअरच्या सामर्थ्यानुसार आणि इच्छित परिणामावर अवलंबून अंडरहँड, टॉपस्पिन आणि फ्लोट सारख्या भिन्न सर्व्ह शैली वापरल्या जाऊ शकतात.\n",
            "Answer (Model 1): बीच व्हॉलीबॉलमध्ये\n",
            "BLEU Score (Model 1): 6.84230703247857e-07\n",
            "Answer (Model 2): बीच व्हॉलीबॉलमध्ये\n",
            "BLEU Score (Model 2): 6.84230703247857e-07\n",
            "----------------\n",
            "Example: 6\n",
            "Question: बहु-निवड प्रश्न: खालील ट्विटची भावना काय आहे?\n",
            "ट्विट: @nikkigreen मी तुम्हाला सांगितले\n",
            "यामधून तुमचे उत्तर निवडा:\n",
            " + नकारात्मक;\n",
            " + सकारात्मक;\n",
            "Context: ट्विटची भावना निश्चित करण्यासाठी, आम्हाला त्याचे सखोल विश्लेषण करणे आवश्यक आहे.\n",
            "\n",
            "ट्विट: @nikkigreen मी तुम्हाला सांगितले\n",
            "\n",
            "पायरी 1: भावनिक भार असलेले शब्द किंवा वाक्ये ओळखा.\n",
            "या ट्विटमध्ये, परीक्षण करण्यासारखे एकच वाक्यांश आहे: \"मी तुम्हाला सांगितले.\"\n",
            "\n",
            "पायरी 2: ओळखलेल्या शब्दांची किंवा वाक्प्रचारांची भावना निश्चित करा.\n",
            "\"मी तुम्हाला सांगितले\" संदर्भानुसार विविध भावना असू शकतात. ते सकारात्मक, नकारात्मक किंवा तटस्थ असू शकते.\n",
            "\n",
            "पायरी 3: ट्विटचा एकूण संदर्भ विचारात घ्या.\n",
            "दुर्दैवाने, अधिक संदर्भाशिवाय, ट्विटची नेमकी भावना निश्चित करणे अशक्य आहे.\n",
            "\n",
            "परिणामी, अधिक संदर्भित माहितीशिवाय, आम्ही प्रदान केलेल्या पर्यायांमधून, सकारात्मक किंवा नकारात्मक, आत्मविश्वासाने उत्तर निवडू शकत नाही.\n",
            "Answer (Model 1): सकारात्मक किंवा नकारात्मक, आत्मविश्वासाने उत्तर निवडू शकत नाही.\n",
            "BLEU Score (Model 1): 0.006381437157476983\n",
            "Answer (Model 2): सकारात्मक किंवा नकारात्मक, आत्मविश्वासाने उत्तर निवडू शकत नाही.\n",
            "BLEU Score (Model 2): 0.006381437157476983\n",
            "----------------\n",
            "Example: 7\n",
            "Question: जॉन एक भयानक लेखक होता. सराव करण्यासाठी, त्याचे शिक्षक सुचवतात की त्याला त्याच्या ओळखीच्या लोकांचा विचार करा आणि काय करावे?\n",
            "पर्याय:\n",
            "- कादंबऱ्या लिहा\n",
            "- जाहिरात फर्म\n",
            "- पत्र लिहा\n",
            "- नोट्स लिहा\n",
            "- कविता लिहा\n",
            "चला आता विचार करूया! चरण-दर-चरण तर्क:\n",
            "Context: पायरी 1: परिस्थितीचे विश्लेषण करा - जॉन एक भयानक लेखक आहे आणि त्याचे कौशल्य सुधारण्यासाठी त्याला सराव आवश्यक आहे. त्याचे शिक्षक त्याला सराव कसा करावा याबद्दल सल्ला देतात.\n",
            "\n",
            "पायरी 2: दिलेल्या पर्यायांचा विचार करा:\n",
            "- कादंबऱ्या लिहा: नुकतेच त्यांचे लेखन कौशल्य सुधारण्यास सुरुवात करणाऱ्या व्यक्तीसाठी हे थोडेसे जबरदस्त असू शकते, कारण कादंबऱ्या लांब असतात आणि त्यांना खूप वचनबद्धतेची आवश्यकता असते.\n",
            "- जाहिरात फर्म: हा पर्याय लेखनाच्या सरावाशी थेट जोडलेला दिसत नाही, कारण तो लेखन क्रियाकलाप ऐवजी व्यवसायाच्या प्रकाराचा संदर्भ देतो.\n",
            "- अक्षरे लिहा: लेखनाचा सराव करण्यासाठी अक्षरे लिहिणे हा एक चांगला मार्ग असू शकतो, विशेषत: जॉन हे करत असताना त्याच्या ओळखीच्या लोकांबद्दल विचार करू शकतो. हे लेखन अधिक वैयक्तिक आणि आकर्षक बनवते.\n",
            "- नोट्स लिहा: नोट्स लिहिणे काही प्रमाणात लेखन कौशल्य सुधारण्यास मदत करू शकते, परंतु जॉनला आवश्यक असलेल्या सतत सरावासाठी परवानगी देऊ शकत नाही.\n",
            "- कविता लिहा: लेखनाचा सराव करण्याचा हा आणखी एक सर्जनशील पर्याय आहे, परंतु जॉनला लेखनाच्या मूलभूत गोष्टींशी संघर्ष होत असेल आणि कविता सारख्या अधिक प्रगत प्रकारांमध्ये अद्याप सोयीस्कर नसेल तर हा सर्वोत्तम पर्याय असू शकत नाही.\n",
            "\n",
            "पायरी 3: विश्लेषणावर आधारित सर्वात योग्य पर्याय निवडा:\n",
            "पर्याय दिल्यास, जॉनला त्याच्या ओळखीच्या लोकांचा विचार करताना पत्रे लिहिणे हा सर्वोत्कृष्ट सल्ला आहे असे दिसते. हे त्याला इतरांशी संवाद साधण्यावर लक्ष केंद्रित करताना वैयक्तिक, आकर्षक पद्धतीने लिहिण्याचा सराव करण्यास अनुमती देईल, ज्यामुळे त्याला त्याचे कौशल्य सुधारण्यास मदत होईल.\n",
            "Answer (Model 1): त्याचे कौशल्य सुधारण्यासाठी\n",
            "BLEU Score (Model 1): 1.638682309719875e-07\n",
            "Answer (Model 2): त्याचे कौशल्य सुधारण्यासाठी\n",
            "BLEU Score (Model 2): 1.638682309719875e-07\n",
            "----------------\n",
            "Example: 8\n",
            "Question: प्रिमिस: एक माणूस लाकडी बेंचसमोर इनलाइन स्केटिंग करत आहे.\n",
            "\n",
            "गृहीतक: एक माणूस बेंचसमोर स्केटिंग करताना मजा करत आहे.\n",
            "\n",
            ".योग्य उत्तर निवडा: आधार दिल्यास, आपण गृहीतक निष्कर्ष काढू शकतो का?\n",
            "\n",
            "यामधून निवडा: अ). होय ब). c) सांगणे शक्य नाही. नाही\n",
            "Context: b). सांगणे शक्य नाही\n",
            "\n",
            "औचित्य: जरी माणूस लाकडी बेंचसमोर इनलाइन स्केटिंग करत असला तरी, त्याच्या भावना स्पष्टपणे नमूद केल्या नसल्यामुळे तो मजा करत आहे की नाही हे आपण निष्कर्ष काढू शकत नाही.\n",
            "Answer (Model 1): सांगणे शक्य नाही\n",
            "BLEU Score (Model 1): 1.4400363192851252e-06\n",
            "Answer (Model 2): सांगणे शक्य नाही\n",
            "BLEU Score (Model 2): 1.4400363192851252e-06\n",
            "----------------\n",
            "Example: 9\n",
            "Question: प्रश्न: या परिच्छेदात दिलेल्या खालील प्रश्नाचे उत्तर द्या: मूत्रपिंड देखील हार्मोन्स स्राव करतात जे होमिओस्टॅसिस राखण्यास मदत करतात. उदाहरणार्थ, ते एक संप्रेरक तयार करतात जे अस्थिमज्जा उत्तेजित करतात जेंव्हा जास्त गरज असते तेव्हा लाल रक्तपेशी निर्माण करतात. ते एक संप्रेरक देखील स्राव करतात जे रक्तदाब नियंत्रित करतात आणि ते सामान्य श्रेणीत ठेवतात. प्रश्न: कोणते अवयव होमिओस्टॅसिस राखण्यास मदत करणारे हार्मोन्स स्राव करतात? अ:\n",
            "उत्तर आहे:\n",
            "Context: मूत्रपिंड हे असे अवयव आहेत जे होमिओस्टॅसिस राखण्यात मदत करण्यासाठी हार्मोन्स स्राव करतात. ते एक संप्रेरक तयार करतात जे आवश्यकतेनुसार लाल रक्तपेशी तयार करण्यासाठी अस्थिमज्जा उत्तेजित करतात आणि ते एक संप्रेरक देखील स्राव करतात जे रक्तदाब नियंत्रित करतात आणि सामान्य श्रेणीत ठेवतात.\n",
            "Answer (Model 1): मूत्रपिंड\n",
            "BLEU Score (Model 1): 1.603810890548638e-28\n",
            "Answer (Model 2): मूत्रपिंड\n",
            "BLEU Score (Model 2): 1.603810890548638e-28\n",
            "----------------\n",
            "Example: 10\n",
            "Question: पुढील लेखाबद्दल एक प्रश्न लिहा: बुकेनियर्सवर त्यांच्या घरच्या विजयानंतर, पॅकर्स त्यांच्या NFC नॉर्थ शत्रू डेट्रॉइट लायन्ससोबत 12व्या थँक्सगिव्हिंग द्वंद्वयुद्धासाठी फोर्ड फील्डला गेले. पहिल्या क्वार्टरमध्ये स्कोअरलेस झाल्यानंतर, ग्रीन बेने दुसऱ्या क्वार्टरमध्ये क्वार्टरबॅक ॲरॉन रॉजर्सने 3-यार्ड टचडाउन पासवर ग्रेग जेनिंग्सला वाइड रिसीव्हर शोधून गेमचा ओपनिंग पंच दिला. पॅकर्सने तिसऱ्या तिमाहीत फुलबॅक जॉन कुहनकडून 1-यार्ड टचडाउन रनसह त्यांची आघाडी वाढवली, त्यानंतर रॉजर्सने 65-यार्ड टचडाउन पासवर वाइड रिसीव्हर जेम्स जोन्सशी कनेक्ट केले आणि किकर मेसन क्रॉसबीकडून 35-यार्ड फील्ड गोल केला. लायन्सने चौथ्या क्वार्टरमध्ये केलँड विल्यम्सने 16-यार्ड टचडाउन रन बॅक करून उत्तर दिले आणि क्वार्टरबॅक मॅथ्यू स्टॅफोर्डकडून वाइड रिसीव्हर टायटस यंगला दोन-पॉइंट रूपांतरण पास), तरीही ग्रीन बेने क्रॉसबीने 32-यार्ड फील्डला खिळले. ध्येय डेट्रॉईटने स्टॅफोर्डने वाइड रिसीव्हर केल्विन जॉन्सनला 3-यार्ड टचडाउन पास पूर्ण करून गेम बंद केला. या विजयासह, पॅकर्सने फ्रँचायझी इतिहासातील पहिली 11-0 अशी सुरुवात केली, 1962 च्या संघाला 10-0 ने पराभूत केले आणि सीझननंतरच्या खेळासह 14-1 ने पूर्ण केले. रॉजर्स (307 यार्डसाठी 22/32, 2 TDs) FOX च्या 2011 Galloping Gobbler Award Winner वर NFL असे नाव देण्यात आले.\n",
            "\n",
            "लेखाबद्दल प्रश्नः\n",
            "Context: पॅकर्स आणि लायन्स यांच्यातील थँक्सगिव्हिंग फुटबॉल गेम दरम्यान काय घडले आणि पॅकर्सने त्यांच्या विजयासह कोणता विक्रम साधला?\n",
            "Answer (Model 1): त्यांच्या विजयासह कोणता विक्रम\n",
            "BLEU Score (Model 1): 1.5726778433349897e-19\n",
            "Answer (Model 2): त्यांच्या विजयासह कोणता विक्रम\n",
            "BLEU Score (Model 2): 1.5726778433349897e-19\n",
            "----------------\n"
          ]
        }
      ]
    },
    {
      "cell_type": "code",
      "source": [
        "import matplotlib.pyplot as plt\n",
        "\n",
        "# ... (rest of the code remains the same)\n",
        "\n",
        "# Create lists to store the BLEU scores\n",
        "bleu_scores_model1 = []\n",
        "bleu_scores_model2 = []\n",
        "\n",
        "# Iterate through the dataset\n",
        "for i in range(10):\n",
        "  example = dataset['train'][i]\n",
        "  context = example[\"mar_response\"]\n",
        "  question = example[\"mar_question\"]\n",
        "\n",
        "  # Perform question answering with both models\n",
        "  result1 = qa_pipeline(question=question, context=context)\n",
        "  answer1 = result1[\"answer\"]\n",
        "\n",
        "  result2 = other_qa_pipeline(question=question, context=context)\n",
        "  answer2 = result2[\"answer\"]\n",
        "\n",
        "  # Calculate BLEU score for each answer against the reference question\n",
        "  bleu_score1 = calculate_bleu_score(question, answer1)\n",
        "  bleu_score2 = calculate_bleu_score(question, answer2)\n",
        "\n",
        "  # Append the BLEU scores to the lists\n",
        "  bleu_scores_model1.append(bleu_score1)\n",
        "  bleu_scores_model2.append(bleu_score2)\n",
        "\n",
        "  print('Example:', i + 1)\n",
        "  print(\"Question:\", question)\n",
        "  print(\"Context:\", context)\n",
        "  print(\"Answer (Model 1):\", answer1)\n",
        "  print(\"BLEU Score (Model 1):\", bleu_score1)\n",
        "  print(\"Answer (Model 2):\", answer2)\n",
        "  print(\"BLEU Score (Model 2):\", bleu_score2)\n",
        "  print(\"----------------\")\n",
        "\n",
        "# Create a line graph of the BLEU scores\n",
        "plt.plot(range(1, 11), bleu_scores_model1, label='Model 1')\n",
        "#plt.plot(range(1, 11), bleu_scores_model2, label='Model 2')\n",
        "plt.xlabel('Example')\n",
        "plt.ylabel('BLEU Score')\n",
        "plt.title('BLEU Score of Model')\n",
        "plt.legend()\n",
        "plt.show()"
      ],
      "metadata": {
        "colab": {
          "base_uri": "https://localhost:8080/",
          "height": 1000
        },
        "id": "apdqBKt_qhZB",
        "outputId": "8e63f94b-43d8-4662-c319-4e6c4ff20056",
        "collapsed": true
      },
      "execution_count": null,
      "outputs": [
        {
          "output_type": "stream",
          "name": "stdout",
          "text": [
            "Example: 1\n",
            "Question: या सर्व डेटाचे वर्णन करणारे अंदाजे पंधरा शब्दांचे वाक्य तयार करा: मिडसमर हाऊस eatType restaurant; मिडसमर हाउस फूड चायनीज; मिडसमर हाऊस किंमत श्रेणी मध्यम; मिडसमर हाऊस ग्राहक रेटिंग 5 पैकी 3; ऑल बार वन जवळ मिडसमर हाऊस\n",
            "Context: मिडसमर हाऊस हे 3/5 ग्राहक रेटिंग असलेले माफक किमतीचे चीनी रेस्टॉरंट आहे, जे ऑल बार वन जवळ आहे.\n",
            "Answer (Model 1): 3/5\n",
            "BLEU Score (Model 1): 0\n",
            "Answer (Model 2): 3/5\n",
            "BLEU Score (Model 2): 0\n",
            "----------------\n",
            "Example: 2\n",
            "Question: या परिच्छेदात पुढे काय होते?\n",
            "\n",
            "मग ती कापसाच्या बॉलवर सुई घासते आणि मग ती पेन्सिलवर ढकलते आणि त्याभोवती धागा गुंडाळते. ती नंतर उत्पादनाचा एक बॉक्स धरते आणि नंतर एका वाडग्यात अनेक द्रव ओतते. ती\n",
            "तुमचे उत्तर यामधून निवडा: A. सॉसपॅन जोडते आणि ग्राइंडरमध्ये उत्पादन हलवते. बी. सिगारेट स्टाईल करण्यासाठी धागा चिमटा काढतो आणि मग निघून जातो. C. नंतर सुईला शाईत बुडवतो आणि पेन्सिलचा वापर करून तिच्या पायावर डिझाईन काढतो, शेवटी चिंधीने घासतो. डी. तिचे केस स्टाईल करण्यास सुरुवात करते आणि तिने तयार केलेली हेअरस्टाईल दर्शविण्यासाठी केसांचे टोक वेगळे करण्यापूर्वी ते अनेक वेळा कापते.\n",
            "Context: C. नंतर ती सुई शाईत बुडवते आणि पेन्सिलचा वापर करून तिच्या पायावर एक डिझाईन काढते, शेवटी चिंधीने घासते. या पर्यायामध्ये, ती सुई, पेन्सिल आणि धागा वापरण्याची प्रक्रिया सुरू ठेवत आहे, जी मागील वाक्यात ती काय करत होती याच्याशी सर्वात संबंधित आहे.\n",
            "Answer (Model 1): डिझाईन\n",
            "BLEU Score (Model 1): 1.1089390193121365e-40\n",
            "Answer (Model 2): डिझाईन\n",
            "BLEU Score (Model 2): 1.1089390193121365e-40\n",
            "----------------\n",
            "Example: 3\n",
            "Question: कृपया खालील प्रश्नाचे उत्तर द्या: मला विद्यार्थ्यांची परिच्छेद वाचण्याची आणि त्याबद्दलच्या प्रश्नांची उत्तरे देण्याची क्षमता तपासायची आहे. तुम्ही कृपया उताऱ्यासाठी एक चांगला प्रश्न विचारू शकता का \"1901 मध्ये, फेडरेशन ऑफ ऑस्ट्रेलिया ही प्रक्रिया होती ज्याद्वारे न्यू साउथ वेल्स, क्वीन्सलँड, दक्षिण ऑस्ट्रेलिया, तस्मानिया, व्हिक्टोरिया आणि वेस्टर्न ऑस्ट्रेलिया या सहा स्वतंत्र ब्रिटीश स्वयंशासित वसाहती तयार झाल्या. एक राष्ट्र त्यांनी स्वतंत्र वसाहती म्हणून विकसित केलेली सरकारची व्यवस्था ठेवली परंतु संपूर्ण राष्ट्राशी संबंधित बाबींसाठी जबाबदार असलेल्या वसाहती एकत्रितपणे कॉमनवेल्थचे राज्य बनल्या. ऑस्ट्रेलियाचे.\"?\n",
            "उत्तर:\n",
            "Context: उताऱ्यावर आधारित, 1901 फेडरेशन ऑफ ऑस्ट्रेलियाच्या प्राथमिक प्रेरणा आणि परिणामांची चर्चा करा, ज्यात संघराज्य सरकारच्या भूमिका आणि जबाबदाऱ्या, तसेच सहभागी असलेल्या वैयक्तिक राज्यांच्या सतत सरकारी संरचनांचा समावेश आहे.\n",
            "Answer (Model 1): 1901 फेडरेशन ऑफ ऑस्ट्रेलियाच्या\n",
            "BLEU Score (Model 1): 1.2101895047620428e-09\n",
            "Answer (Model 2): 1901 फेडरेशन ऑफ ऑस्ट्रेलियाच्या\n",
            "BLEU Score (Model 2): 1.2101895047620428e-09\n",
            "----------------\n",
            "Example: 4\n",
            "Question: जेम्स एक टीव्ही शो चालवतो आणि त्यात 5 मुख्य पात्रे आणि 4 लहान पात्रे आहेत. तो लहान पात्रांना प्रत्येक भागासाठी $15,000 देतो. त्याने प्रमुख पात्रांना तिप्पट पैसे दिले. तो प्रति एपिसोड किती देतो? चला शक्य तितके अचूक असू द्या.\n",
            "Context: जेम्स लहान पात्रांना प्रत्येक भागासाठी $15,000 देते. 4 किरकोळ वर्ण असल्याने, तो त्यांना एकूण 4 * $15,000 = $60,000 प्रति एपिसोड देतो.\n",
            "\n",
            "प्रमुख पात्रांना तिप्पट पैसे दिले जातात. तर, प्रत्येक प्रमुख पात्राला 3 * $15,000 = $45,000 प्रति एपिसोड दिले जातात.\n",
            "\n",
            "5 मुख्य पात्रे आहेत, म्हणून तो त्यांना एकूण 5 * $45,000 = $225,000 प्रति एपिसोड देतो.\n",
            "\n",
            "एकूण, जेम्स $225,000 (प्रमुख वर्ण) + $60,000 (लहान वर्ण) = $285,000 प्रति एपिसोड देतात.\n",
            "Answer (Model 1): 5 मुख्य पात्रे आहेत, म्हणून तो त्यांना एकूण 5 * $45,000\n",
            "BLEU Score (Model 1): 0.00978524922105512\n",
            "Answer (Model 2): 5 मुख्य पात्रे आहेत, म्हणून तो त्यांना एकूण 5 * $45,000\n",
            "BLEU Score (Model 2): 0.00978524922105512\n",
            "----------------\n",
            "Example: 5\n",
            "Question: जाणीवेचा प्रवाह पाहता तर्कसंगत प्रश्न आणि उत्तर द्या. तर्क: येथे गेम व्हॉलीबॉलचा संदर्भ देते जेथे महिला बीच व्हॉलीबॉल खेळाडू बॉल सर्व्ह करते.\n",
            " प्रश्न आणि उत्तर:\n",
            "Context: प्रश्न: महिला बीच व्हॉलीबॉल खेळाडूला खेळात बॉल प्रभावीपणे सर्व्ह करण्यासाठी योग्य तंत्र कोणते आहे?\n",
            "\n",
            "उत्तर: बीच व्हॉलीबॉलमध्ये बॉलला प्रभावीपणे सर्व्ह करण्यासाठी, महिला खेळाडूने प्री-सर्व्ह दिनचर्याचा वापर केला पाहिजे, पाय खांद्या-रुंदीच्या अंतरावर संतुलित स्थितीत उभे राहावे, न मारणारा हात लांब करताना योग्य उंचीवर चेंडू टॉस करावा, आणि एक शक्तिशाली आणि अचूक सर्व्ह करण्यासाठी खांदा, हात आणि मनगटाच्या हालचालींचा वापर करा. प्लेअरच्या सामर्थ्यानुसार आणि इच्छित परिणामावर अवलंबून अंडरहँड, टॉपस्पिन आणि फ्लोट सारख्या भिन्न सर्व्ह शैली वापरल्या जाऊ शकतात.\n",
            "Answer (Model 1): बीच व्हॉलीबॉलमध्ये\n",
            "BLEU Score (Model 1): 6.84230703247857e-07\n",
            "Answer (Model 2): बीच व्हॉलीबॉलमध्ये\n",
            "BLEU Score (Model 2): 6.84230703247857e-07\n",
            "----------------\n",
            "Example: 6\n",
            "Question: बहु-निवड प्रश्न: खालील ट्विटची भावना काय आहे?\n",
            "ट्विट: @nikkigreen मी तुम्हाला सांगितले\n",
            "यामधून तुमचे उत्तर निवडा:\n",
            " + नकारात्मक;\n",
            " + सकारात्मक;\n",
            "Context: ट्विटची भावना निश्चित करण्यासाठी, आम्हाला त्याचे सखोल विश्लेषण करणे आवश्यक आहे.\n",
            "\n",
            "ट्विट: @nikkigreen मी तुम्हाला सांगितले\n",
            "\n",
            "पायरी 1: भावनिक भार असलेले शब्द किंवा वाक्ये ओळखा.\n",
            "या ट्विटमध्ये, परीक्षण करण्यासारखे एकच वाक्यांश आहे: \"मी तुम्हाला सांगितले.\"\n",
            "\n",
            "पायरी 2: ओळखलेल्या शब्दांची किंवा वाक्प्रचारांची भावना निश्चित करा.\n",
            "\"मी तुम्हाला सांगितले\" संदर्भानुसार विविध भावना असू शकतात. ते सकारात्मक, नकारात्मक किंवा तटस्थ असू शकते.\n",
            "\n",
            "पायरी 3: ट्विटचा एकूण संदर्भ विचारात घ्या.\n",
            "दुर्दैवाने, अधिक संदर्भाशिवाय, ट्विटची नेमकी भावना निश्चित करणे अशक्य आहे.\n",
            "\n",
            "परिणामी, अधिक संदर्भित माहितीशिवाय, आम्ही प्रदान केलेल्या पर्यायांमधून, सकारात्मक किंवा नकारात्मक, आत्मविश्वासाने उत्तर निवडू शकत नाही.\n",
            "Answer (Model 1): सकारात्मक किंवा नकारात्मक, आत्मविश्वासाने उत्तर निवडू शकत नाही.\n",
            "BLEU Score (Model 1): 0.006381437157476983\n",
            "Answer (Model 2): सकारात्मक किंवा नकारात्मक, आत्मविश्वासाने उत्तर निवडू शकत नाही.\n",
            "BLEU Score (Model 2): 0.006381437157476983\n",
            "----------------\n",
            "Example: 7\n",
            "Question: जॉन एक भयानक लेखक होता. सराव करण्यासाठी, त्याचे शिक्षक सुचवतात की त्याला त्याच्या ओळखीच्या लोकांचा विचार करा आणि काय करावे?\n",
            "पर्याय:\n",
            "- कादंबऱ्या लिहा\n",
            "- जाहिरात फर्म\n",
            "- पत्र लिहा\n",
            "- नोट्स लिहा\n",
            "- कविता लिहा\n",
            "चला आता विचार करूया! चरण-दर-चरण तर्क:\n",
            "Context: पायरी 1: परिस्थितीचे विश्लेषण करा - जॉन एक भयानक लेखक आहे आणि त्याचे कौशल्य सुधारण्यासाठी त्याला सराव आवश्यक आहे. त्याचे शिक्षक त्याला सराव कसा करावा याबद्दल सल्ला देतात.\n",
            "\n",
            "पायरी 2: दिलेल्या पर्यायांचा विचार करा:\n",
            "- कादंबऱ्या लिहा: नुकतेच त्यांचे लेखन कौशल्य सुधारण्यास सुरुवात करणाऱ्या व्यक्तीसाठी हे थोडेसे जबरदस्त असू शकते, कारण कादंबऱ्या लांब असतात आणि त्यांना खूप वचनबद्धतेची आवश्यकता असते.\n",
            "- जाहिरात फर्म: हा पर्याय लेखनाच्या सरावाशी थेट जोडलेला दिसत नाही, कारण तो लेखन क्रियाकलाप ऐवजी व्यवसायाच्या प्रकाराचा संदर्भ देतो.\n",
            "- अक्षरे लिहा: लेखनाचा सराव करण्यासाठी अक्षरे लिहिणे हा एक चांगला मार्ग असू शकतो, विशेषत: जॉन हे करत असताना त्याच्या ओळखीच्या लोकांबद्दल विचार करू शकतो. हे लेखन अधिक वैयक्तिक आणि आकर्षक बनवते.\n",
            "- नोट्स लिहा: नोट्स लिहिणे काही प्रमाणात लेखन कौशल्य सुधारण्यास मदत करू शकते, परंतु जॉनला आवश्यक असलेल्या सतत सरावासाठी परवानगी देऊ शकत नाही.\n",
            "- कविता लिहा: लेखनाचा सराव करण्याचा हा आणखी एक सर्जनशील पर्याय आहे, परंतु जॉनला लेखनाच्या मूलभूत गोष्टींशी संघर्ष होत असेल आणि कविता सारख्या अधिक प्रगत प्रकारांमध्ये अद्याप सोयीस्कर नसेल तर हा सर्वोत्तम पर्याय असू शकत नाही.\n",
            "\n",
            "पायरी 3: विश्लेषणावर आधारित सर्वात योग्य पर्याय निवडा:\n",
            "पर्याय दिल्यास, जॉनला त्याच्या ओळखीच्या लोकांचा विचार करताना पत्रे लिहिणे हा सर्वोत्कृष्ट सल्ला आहे असे दिसते. हे त्याला इतरांशी संवाद साधण्यावर लक्ष केंद्रित करताना वैयक्तिक, आकर्षक पद्धतीने लिहिण्याचा सराव करण्यास अनुमती देईल, ज्यामुळे त्याला त्याचे कौशल्य सुधारण्यास मदत होईल.\n",
            "Answer (Model 1): त्याचे कौशल्य सुधारण्यासाठी\n",
            "BLEU Score (Model 1): 1.638682309719875e-07\n",
            "Answer (Model 2): त्याचे कौशल्य सुधारण्यासाठी\n",
            "BLEU Score (Model 2): 1.638682309719875e-07\n",
            "----------------\n",
            "Example: 8\n",
            "Question: प्रिमिस: एक माणूस लाकडी बेंचसमोर इनलाइन स्केटिंग करत आहे.\n",
            "\n",
            "गृहीतक: एक माणूस बेंचसमोर स्केटिंग करताना मजा करत आहे.\n",
            "\n",
            ".योग्य उत्तर निवडा: आधार दिल्यास, आपण गृहीतक निष्कर्ष काढू शकतो का?\n",
            "\n",
            "यामधून निवडा: अ). होय ब). c) सांगणे शक्य नाही. नाही\n",
            "Context: b). सांगणे शक्य नाही\n",
            "\n",
            "औचित्य: जरी माणूस लाकडी बेंचसमोर इनलाइन स्केटिंग करत असला तरी, त्याच्या भावना स्पष्टपणे नमूद केल्या नसल्यामुळे तो मजा करत आहे की नाही हे आपण निष्कर्ष काढू शकत नाही.\n",
            "Answer (Model 1): सांगणे शक्य नाही\n",
            "BLEU Score (Model 1): 1.4400363192851252e-06\n",
            "Answer (Model 2): सांगणे शक्य नाही\n",
            "BLEU Score (Model 2): 1.4400363192851252e-06\n",
            "----------------\n",
            "Example: 9\n",
            "Question: प्रश्न: या परिच्छेदात दिलेल्या खालील प्रश्नाचे उत्तर द्या: मूत्रपिंड देखील हार्मोन्स स्राव करतात जे होमिओस्टॅसिस राखण्यास मदत करतात. उदाहरणार्थ, ते एक संप्रेरक तयार करतात जे अस्थिमज्जा उत्तेजित करतात जेंव्हा जास्त गरज असते तेव्हा लाल रक्तपेशी निर्माण करतात. ते एक संप्रेरक देखील स्राव करतात जे रक्तदाब नियंत्रित करतात आणि ते सामान्य श्रेणीत ठेवतात. प्रश्न: कोणते अवयव होमिओस्टॅसिस राखण्यास मदत करणारे हार्मोन्स स्राव करतात? अ:\n",
            "उत्तर आहे:\n",
            "Context: मूत्रपिंड हे असे अवयव आहेत जे होमिओस्टॅसिस राखण्यात मदत करण्यासाठी हार्मोन्स स्राव करतात. ते एक संप्रेरक तयार करतात जे आवश्यकतेनुसार लाल रक्तपेशी तयार करण्यासाठी अस्थिमज्जा उत्तेजित करतात आणि ते एक संप्रेरक देखील स्राव करतात जे रक्तदाब नियंत्रित करतात आणि सामान्य श्रेणीत ठेवतात.\n",
            "Answer (Model 1): मूत्रपिंड\n",
            "BLEU Score (Model 1): 1.603810890548638e-28\n",
            "Answer (Model 2): मूत्रपिंड\n",
            "BLEU Score (Model 2): 1.603810890548638e-28\n",
            "----------------\n",
            "Example: 10\n",
            "Question: पुढील लेखाबद्दल एक प्रश्न लिहा: बुकेनियर्सवर त्यांच्या घरच्या विजयानंतर, पॅकर्स त्यांच्या NFC नॉर्थ शत्रू डेट्रॉइट लायन्ससोबत 12व्या थँक्सगिव्हिंग द्वंद्वयुद्धासाठी फोर्ड फील्डला गेले. पहिल्या क्वार्टरमध्ये स्कोअरलेस झाल्यानंतर, ग्रीन बेने दुसऱ्या क्वार्टरमध्ये क्वार्टरबॅक ॲरॉन रॉजर्सने 3-यार्ड टचडाउन पासवर ग्रेग जेनिंग्सला वाइड रिसीव्हर शोधून गेमचा ओपनिंग पंच दिला. पॅकर्सने तिसऱ्या तिमाहीत फुलबॅक जॉन कुहनकडून 1-यार्ड टचडाउन रनसह त्यांची आघाडी वाढवली, त्यानंतर रॉजर्सने 65-यार्ड टचडाउन पासवर वाइड रिसीव्हर जेम्स जोन्सशी कनेक्ट केले आणि किकर मेसन क्रॉसबीकडून 35-यार्ड फील्ड गोल केला. लायन्सने चौथ्या क्वार्टरमध्ये केलँड विल्यम्सने 16-यार्ड टचडाउन रन बॅक करून उत्तर दिले आणि क्वार्टरबॅक मॅथ्यू स्टॅफोर्डकडून वाइड रिसीव्हर टायटस यंगला दोन-पॉइंट रूपांतरण पास), तरीही ग्रीन बेने क्रॉसबीने 32-यार्ड फील्डला खिळले. ध्येय डेट्रॉईटने स्टॅफोर्डने वाइड रिसीव्हर केल्विन जॉन्सनला 3-यार्ड टचडाउन पास पूर्ण करून गेम बंद केला. या विजयासह, पॅकर्सने फ्रँचायझी इतिहासातील पहिली 11-0 अशी सुरुवात केली, 1962 च्या संघाला 10-0 ने पराभूत केले आणि सीझननंतरच्या खेळासह 14-1 ने पूर्ण केले. रॉजर्स (307 यार्डसाठी 22/32, 2 TDs) FOX च्या 2011 Galloping Gobbler Award Winner वर NFL असे नाव देण्यात आले.\n",
            "\n",
            "लेखाबद्दल प्रश्नः\n",
            "Context: पॅकर्स आणि लायन्स यांच्यातील थँक्सगिव्हिंग फुटबॉल गेम दरम्यान काय घडले आणि पॅकर्सने त्यांच्या विजयासह कोणता विक्रम साधला?\n",
            "Answer (Model 1): त्यांच्या विजयासह कोणता विक्रम\n",
            "BLEU Score (Model 1): 1.5726778433349897e-19\n",
            "Answer (Model 2): त्यांच्या विजयासह कोणता विक्रम\n",
            "BLEU Score (Model 2): 1.5726778433349897e-19\n",
            "----------------\n"
          ]
        },
        {
          "output_type": "display_data",
          "data": {
            "text/plain": [
              "<Figure size 640x480 with 1 Axes>"
            ],
            "image/png": "[encoded data removed]"
          },
          "metadata": {}
        }
      ]
    },
    {
      "cell_type": "markdown",
      "metadata": {
        "id": "l_Q_FnAfVCQy"
      },
      "source": [
        "METHOD 2"
      ]
    },
    {
      "cell_type": "code",
      "execution_count": null,
      "metadata": {
        "id": "kMXEfaZRG4iV"
      },
      "outputs": [],
      "source": [
        "from transformers import BertForQuestionAnswering\n",
        "\n",
        "model=BertForQuestionAnswering.from_pretrained('l3cube-pune/marathi-question-answering-squad-bert')"
      ]
    },
    {
      "cell_type": "code",
      "execution_count": null,
      "metadata": {
        "id": "OOFR9cBwWHg6"
      },
      "outputs": [],
      "source": [
        "from transformers import BertTokenizer\n",
        "\n",
        "tokenizer=BertTokenizer.from_pretrained('l3cube-pune/marathi-question-answering-squad-bert')"
      ]
    },
    {
      "cell_type": "code",
      "execution_count": null,
      "metadata": {
        "id": "RPIlJlfFWRzm"
      },
      "outputs": [],
      "source": [
        "question = \"या परिच्छेदात पुढे काय होते?\"\n",
        "answer_text = '''नंतर ती सुई शाईत बुडवते आणि पेन्सिलचा वापर करून तिच्या पायावर एक डिझाईन काढते, शेवटी चिंधीने घासते. या पर्यायामध्ये, ती सुई, पेन्सिल आणि धागा वापरण्याची प्रक्रिया सुरू ठेवत आहे, जी मागील वाक्यात ती काय करत होती याच्याशी सर्वात संबंधित आहे.\n",
        "Answer: डिझाईन '''"
      ]
    },
    {
      "cell_type": "code",
      "execution_count": null,
      "metadata": {
        "id": "cLIemjWGXFWQ"
      },
      "outputs": [],
      "source": [
        "input_ids = tokenizer.encode(question,answer_text)"
      ]
    },
    {
      "cell_type": "code",
      "execution_count": null,
      "metadata": {
        "colab": {
          "base_uri": "https://localhost:8080/"
        },
        "id": "2uIuJ8YxXJZw",
        "outputId": "b47aee08-320c-46ff-d05e-bcd9034f9adb"
      },
      "outputs": [
        {
          "output_type": "stream",
          "name": "stdout",
          "text": [
            "[104, 1165, 142321, 1793, 4825, 8240, 1319, 138, 105, 5878, 2522, 65844, 178806, 1397, 90780, 110266, 2373, 1196, 46540, 108846, 1522, 5693, 2524, 13846, 7124, 2077, 1127, 148497, 152158, 1216, 119, 19067, 81243, 189614, 1216, 44440, 2373, 121, 1165, 28838, 5646, 119, 2522, 65844, 119, 46540, 108846, 1196, 100529, 5693, 12400, 4639, 3418, 124098, 1155, 119, 2254, 41995, 26957, 1793, 2522, 8240, 6465, 1470, 16199, 4039, 2395, 5399, 1155, 121, 59508, 133, 148497, 105]\n"
          ]
        }
      ],
      "source": [
        "print(input_ids)"
      ]
    },
    {
      "cell_type": "code",
      "execution_count": null,
      "metadata": {
        "id": "YOf17EKwXOQ4"
      },
      "outputs": [],
      "source": [
        "token_to_ids=tokenizer.convert_ids_to_tokens(input_ids)"
      ]
    },
    {
      "cell_type": "code",
      "execution_count": null,
      "metadata": {
        "colab": {
          "base_uri": "https://localhost:8080/"
        },
        "id": "dgrU3Sh-XSn0",
        "outputId": "e01c2cfd-2204-49d4-853d-2833591ca5f1"
      },
      "outputs": [
        {
          "output_type": "stream",
          "name": "stdout",
          "text": [
            "[CLS] 104\n",
            "या 1165\n",
            "परिच्छेद 142321\n",
            "##ात 1793\n",
            "पुढे 4825\n",
            "काय 8240\n",
            "होते 1319\n",
            "? 138\n",
            "[SEP] 105\n",
            "नंतर 5878\n",
            "ती 2522\n",
            "सुई 65844\n",
            "शाई 178806\n",
            "##त 1397\n",
            "बु 90780\n",
            "##डव 110266\n",
            "##ते 2373\n",
            "आणि 1196\n",
            "पेन 46540\n",
            "##्सिल 108846\n",
            "##चा 1522\n",
            "वापर 5693\n",
            "करून 2524\n",
            "तिच्या 13846\n",
            "पाया 7124\n",
            "##वर 2077\n",
            "एक 1127\n",
            "डिझाईन 148497\n",
            "काढत 152158\n",
            "##े 1216\n",
            ", 119\n",
            "शेवटी 19067\n",
            "चिं 81243\n",
            "##धीन 189614\n",
            "##े 1216\n",
            "घास 44440\n",
            "##ते 2373\n",
            ". 121\n",
            "या 1165\n",
            "पर्याय 28838\n",
            "##ामध्ये 5646\n",
            ", 119\n",
            "ती 2522\n",
            "सुई 65844\n",
            ", 119\n",
            "पेन 46540\n",
            "##्सिल 108846\n",
            "आणि 1196\n",
            "धागा 100529\n",
            "वापर 5693\n",
            "##ण्याची 12400\n",
            "प्रक्रिया 4639\n",
            "सुरू 3418\n",
            "ठेवत 124098\n",
            "आहे 1155\n",
            ", 119\n",
            "जी 2254\n",
            "मागील 41995\n",
            "वाक्य 26957\n",
            "##ात 1793\n",
            "ती 2522\n",
            "काय 8240\n",
            "करत 6465\n",
            "होती 1470\n",
            "याच्या 16199\n",
            "##शी 4039\n",
            "सर्वात 2395\n",
            "संबंधित 5399\n",
            "आहे 1155\n",
            ". 121\n",
            "Answer 59508\n",
            ": 133\n",
            "डिझाईन 148497\n",
            "[SEP] 105\n"
          ]
        }
      ],
      "source": [
        "for token,id in zip(token_to_ids,input_ids):\n",
        "  print(token,id)"
      ]
    },
    {
      "cell_type": "code",
      "execution_count": null,
      "metadata": {
        "colab": {
          "base_uri": "https://localhost:8080/"
        },
        "id": "0k10h_u8XYBL",
        "outputId": "21b8ec7b-a63b-4f0e-d2f5-84fafd7628b9"
      },
      "outputs": [
        {
          "output_type": "stream",
          "name": "stdout",
          "text": [
            "9\n",
            "65\n",
            "[0, 0, 0, 0, 0, 0, 0, 0, 0, 1, 1, 1, 1, 1, 1, 1, 1, 1, 1, 1, 1, 1, 1, 1, 1, 1, 1, 1, 1, 1, 1, 1, 1, 1, 1, 1, 1, 1, 1, 1, 1, 1, 1, 1, 1, 1, 1, 1, 1, 1, 1, 1, 1, 1, 1, 1, 1, 1, 1, 1, 1, 1, 1, 1, 1, 1, 1, 1, 1, 1, 1, 1, 1, 1]\n"
          ]
        }
      ],
      "source": [
        "sep_index=input_ids.index(tokenizer.sep_token_id)\n",
        "num_seg_a=sep_index+1\n",
        "print(num_seg_a)\n",
        "num_seg_b=len(input_ids)-num_seg_a\n",
        "print(num_seg_b)\n",
        "segment_ids=[0]*num_seg_a+[1]*num_seg_b\n",
        "print(segment_ids)"
      ]
    },
    {
      "cell_type": "code",
      "execution_count": null,
      "metadata": {
        "colab": {
          "base_uri": "https://localhost:8080/"
        },
        "id": "ObG5aHsgXjdC",
        "outputId": "07e9480f-7d40-4fb3-81a2-5a7f313fe7c2"
      },
      "outputs": [
        {
          "output_type": "stream",
          "name": "stdout",
          "text": [
            "Requirement already satisfied: torch in /usr/local/lib/python3.10/dist-packages (2.3.0+cu121)\n",
            "Requirement already satisfied: filelock in /usr/local/lib/python3.10/dist-packages (from torch) (3.14.0)\n",
            "Requirement already satisfied: typing-extensions>=4.8.0 in /usr/local/lib/python3.10/dist-packages (from torch) (4.11.0)\n",
            "Requirement already satisfied: sympy in /usr/local/lib/python3.10/dist-packages (from torch) (1.12)\n",
            "Requirement already satisfied: networkx in /usr/local/lib/python3.10/dist-packages (from torch) (3.3)\n",
            "Requirement already satisfied: jinja2 in /usr/local/lib/python3.10/dist-packages (from torch) (3.1.4)\n",
            "Requirement already satisfied: fsspec in /usr/local/lib/python3.10/dist-packages (from torch) (2023.6.0)\n",
            "Requirement already satisfied: nvidia-cuda-nvrtc-cu12==12.1.105 in /usr/local/lib/python3.10/dist-packages (from torch) (12.1.105)\n",
            "Requirement already satisfied: nvidia-cuda-runtime-cu12==12.1.105 in /usr/local/lib/python3.10/dist-packages (from torch) (12.1.105)\n",
            "Requirement already satisfied: nvidia-cuda-cupti-cu12==12.1.105 in /usr/local/lib/python3.10/dist-packages (from torch) (12.1.105)\n",
            "Requirement already satisfied: nvidia-cudnn-cu12==8.9.2.26 in /usr/local/lib/python3.10/dist-packages (from torch) (8.9.2.26)\n",
            "Requirement already satisfied: nvidia-cublas-cu12==12.1.3.1 in /usr/local/lib/python3.10/dist-packages (from torch) (12.1.3.1)\n",
            "Requirement already satisfied: nvidia-cufft-cu12==11.0.2.54 in /usr/local/lib/python3.10/dist-packages (from torch) (11.0.2.54)\n",
            "Requirement already satisfied: nvidia-curand-cu12==10.3.2.106 in /usr/local/lib/python3.10/dist-packages (from torch) (10.3.2.106)\n",
            "Requirement already satisfied: nvidia-cusolver-cu12==11.4.5.107 in /usr/local/lib/python3.10/dist-packages (from torch) (11.4.5.107)\n",
            "Requirement already satisfied: nvidia-cusparse-cu12==12.1.0.106 in /usr/local/lib/python3.10/dist-packages (from torch) (12.1.0.106)\n",
            "Requirement already satisfied: nvidia-nccl-cu12==2.20.5 in /usr/local/lib/python3.10/dist-packages (from torch) (2.20.5)\n",
            "Requirement already satisfied: nvidia-nvtx-cu12==12.1.105 in /usr/local/lib/python3.10/dist-packages (from torch) (12.1.105)\n",
            "Requirement already satisfied: triton==2.3.0 in /usr/local/lib/python3.10/dist-packages (from torch) (2.3.0)\n",
            "Requirement already satisfied: nvidia-nvjitlink-cu12 in /usr/local/lib/python3.10/dist-packages (from nvidia-cusolver-cu12==11.4.5.107->torch) (12.5.40)\n",
            "Requirement already satisfied: MarkupSafe>=2.0 in /usr/local/lib/python3.10/dist-packages (from jinja2->torch) (2.1.5)\n",
            "Requirement already satisfied: mpmath>=0.19 in /usr/local/lib/python3.10/dist-packages (from sympy->torch) (1.3.0)\n"
          ]
        }
      ],
      "source": [
        "!pip install torch\n",
        "import torch"
      ]
    },
    {
      "cell_type": "code",
      "execution_count": null,
      "metadata": {
        "id": "PDAv-jxiXfcc"
      },
      "outputs": [],
      "source": [
        "outputs=model(torch.tensor([input_ids]),\n",
        "              token_type_ids=torch.tensor([segment_ids]),\n",
        "              return_dict=True)"
      ]
    },
    {
      "cell_type": "code",
      "execution_count": null,
      "metadata": {
        "id": "mWPE27b8X8o2"
      },
      "outputs": [],
      "source": [
        "start_probs=outputs.start_logits\n",
        "end_probs=outputs.end_logits"
      ]
    },
    {
      "cell_type": "code",
      "execution_count": null,
      "metadata": {
        "colab": {
          "base_uri": "https://localhost:8080/"
        },
        "id": "VcdIGC96X_dg",
        "outputId": "3fb3d564-1673-4599-d3ea-a668cbd861b8"
      },
      "outputs": [
        {
          "output_type": "stream",
          "name": "stdout",
          "text": [
            "tensor([[ 4.2531e+00, -4.6080e+00, -4.6401e+00, -4.9049e+00, -4.6781e+00,\n",
            "         -4.6483e+00, -4.6755e+00, -4.8501e+00, -4.8536e+00,  1.1883e+00,\n",
            "          1.7329e+00,  1.2372e+00,  5.7220e-01, -4.5060e+00, -4.6798e-01,\n",
            "         -5.6450e+00, -3.8511e+00, -4.1308e-01, -2.7142e-01, -5.0799e+00,\n",
            "         -4.8123e+00, -1.7011e+00, -1.0398e+00,  8.6694e-01,  8.2710e-02,\n",
            "         -4.3395e+00,  4.7774e-01,  1.7603e+00, -1.8343e+00, -4.1876e+00,\n",
            "         -3.2422e+00,  6.2474e-02,  8.6550e-01, -5.5639e+00, -4.6561e+00,\n",
            "         -3.7969e-01, -4.5360e+00, -2.6990e+00,  1.5809e+00,  9.5427e-01,\n",
            "         -1.7663e+00, -3.5392e+00,  4.9955e+00,  4.1131e+00, -2.0986e+00,\n",
            "          1.6335e+00, -3.7222e+00,  1.2853e+00,  1.1535e+00,  1.9621e+00,\n",
            "         -2.7007e+00,  2.2861e+00,  1.0085e+00, -3.8672e-02,  3.6270e-02,\n",
            "         -1.9699e+00,  2.6847e-01,  2.5675e+00,  1.1835e+00, -3.5823e+00,\n",
            "          3.8461e+00, -1.6713e-01, -4.0674e-03, -1.2018e+00,  9.2656e-01,\n",
            "         -3.4610e+00,  2.8711e+00, -3.8871e-01,  2.2860e-01, -2.8765e+00,\n",
            "          1.1979e+00, -4.8804e+00,  1.6106e+00, -4.8536e+00]],\n",
            "       grad_fn=<CloneBackward0>)\n"
          ]
        }
      ],
      "source": [
        "print(start_probs)"
      ]
    },
    {
      "cell_type": "code",
      "execution_count": null,
      "metadata": {
        "colab": {
          "base_uri": "https://localhost:8080/"
        },
        "id": "gyhzQu4MYBvq",
        "outputId": "b56116a4-86cf-4b40-b07e-b450b8912629"
      },
      "outputs": [
        {
          "output_type": "stream",
          "name": "stdout",
          "text": [
            "tensor(42)\n"
          ]
        }
      ],
      "source": [
        "start_index=torch.argmax(start_probs)\n",
        "end_index=torch.argmax(end_probs)\n",
        "print(start_index)"
      ]
    },
    {
      "cell_type": "code",
      "execution_count": null,
      "metadata": {
        "id": "kcWZnbjzYOA1"
      },
      "outputs": [],
      "source": [
        "answer=' '.join(token_to_ids[start_index:end_index+1])"
      ]
    },
    {
      "cell_type": "code",
      "execution_count": null,
      "metadata": {
        "colab": {
          "base_uri": "https://localhost:8080/"
        },
        "id": "jIFCMKp0YRjh",
        "outputId": "37b5909e-48d2-4f36-d513-2f216328bf6a"
      },
      "outputs": [
        {
          "output_type": "stream",
          "name": "stdout",
          "text": [
            "\n"
          ]
        }
      ],
      "source": [
        "print(answer)"
      ]
    },
    {
      "cell_type": "code",
      "execution_count": null,
      "metadata": {
        "colab": {
          "base_uri": "https://localhost:8080/"
        },
        "id": "Otz8rIs9YVAw",
        "outputId": "3a74028b-f44b-4d2c-e431-867921ea8134"
      },
      "outputs": [
        {
          "output_type": "stream",
          "name": "stdout",
          "text": [
            "ती\n"
          ]
        }
      ],
      "source": [
        "answer=token_to_ids[start_index]\n",
        "for i  in range(start_index+1,end_index+1):\n",
        "  if token_to_ids[i][0:2]=='##':\n",
        "    answer+=token_to_ids[i][2:]\n",
        "  else:\n",
        "    answer+=' '+token_to_ids[i]\n",
        "print(answer)"
      ]
    },
    {
      "cell_type": "code",
      "execution_count": null,
      "metadata": {
        "id": "iZ_dDjNKYZJb"
      },
      "outputs": [],
      "source": [
        "labels=[]\n",
        "for (ids,token) in enumerate(token_to_ids):\n",
        "   labels.append('{:} - {:>2}'.format(token, ids))"
      ]
    },
    {
      "cell_type": "code",
      "execution_count": null,
      "metadata": {
        "id": "ADqySKv6Ydjz"
      },
      "outputs": [],
      "source": [
        "import matplotlib.pyplot as plt\n",
        "import seaborn as sns"
      ]
    },
    {
      "cell_type": "code",
      "execution_count": null,
      "metadata": {
        "colab": {
          "base_uri": "https://localhost:8080/",
          "height": 53
        },
        "id": "y4cgXg-OYgjH",
        "outputId": "899dd1d8-5457-472e-eb45-eefdd6c00628"
      },
      "outputs": [
        {
          "output_type": "execute_result",
          "data": {
            "text/plain": [
              "<Figure size 1600x1600 with 0 Axes>"
            ]
          },
          "metadata": {},
          "execution_count": 47
        },
        {
          "output_type": "display_data",
          "data": {
            "text/plain": [
              "<Figure size 1600x1600 with 0 Axes>"
            ]
          },
          "metadata": {}
        }
      ],
      "source": [
        "plt.figure(figsize=(16,16))"
      ]
    },
    {
      "cell_type": "code",
      "execution_count": null,
      "metadata": {
        "colab": {
          "base_uri": "https://localhost:8080/",
          "height": 1000
        },
        "id": "01GZT2H3Yjpy",
        "outputId": "fbac7dd5-c3fd-4b82-96be-2b138d6ff993"
      },
      "outputs": [
        {
          "output_type": "stream",
          "name": "stderr",
          "text": [
            "<ipython-input-48-bb6f7a9460e5>:2: FutureWarning: \n",
            "\n",
            "The `ci` parameter is deprecated. Use `errorbar=None` for the same effect.\n",
            "\n",
            "  ax=sns.barplot(x=token_to_ids,y=s,ci=None)\n",
            "<ipython-input-48-bb6f7a9460e5>:3: UserWarning: FixedFormatter should only be used together with FixedLocator\n",
            "  ax.set_xticklabels(ax.get_xticklabels(), rotation=90, ha=\"center\")\n",
            "/usr/local/lib/python3.10/dist-packages/IPython/core/events.py:89: UserWarning: Glyph 2351 (\\N{DEVANAGARI LETTER YA}) missing from current font.\n",
            "  func(*args, **kwargs)\n",
            "/usr/local/lib/python3.10/dist-packages/IPython/core/events.py:89: UserWarning: Matplotlib currently does not support Devanagari natively.\n",
            "  func(*args, **kwargs)\n",
            "/usr/local/lib/python3.10/dist-packages/IPython/core/events.py:89: UserWarning: Glyph 2366 (\\N{DEVANAGARI VOWEL SIGN AA}) missing from current font.\n",
            "  func(*args, **kwargs)\n",
            "/usr/local/lib/python3.10/dist-packages/IPython/core/events.py:89: UserWarning: Glyph 2346 (\\N{DEVANAGARI LETTER PA}) missing from current font.\n",
            "  func(*args, **kwargs)\n",
            "/usr/local/lib/python3.10/dist-packages/IPython/core/events.py:89: UserWarning: Glyph 2352 (\\N{DEVANAGARI LETTER RA}) missing from current font.\n",
            "  func(*args, **kwargs)\n",
            "/usr/local/lib/python3.10/dist-packages/IPython/core/events.py:89: UserWarning: Glyph 2367 (\\N{DEVANAGARI VOWEL SIGN I}) missing from current font.\n",
            "  func(*args, **kwargs)\n",
            "/usr/local/lib/python3.10/dist-packages/IPython/core/events.py:89: UserWarning: Glyph 2330 (\\N{DEVANAGARI LETTER CA}) missing from current font.\n",
            "  func(*args, **kwargs)\n",
            "/usr/local/lib/python3.10/dist-packages/IPython/core/events.py:89: UserWarning: Glyph 2381 (\\N{DEVANAGARI SIGN VIRAMA}) missing from current font.\n",
            "  func(*args, **kwargs)\n",
            "/usr/local/lib/python3.10/dist-packages/IPython/core/events.py:89: UserWarning: Glyph 2331 (\\N{DEVANAGARI LETTER CHA}) missing from current font.\n",
            "  func(*args, **kwargs)\n",
            "/usr/local/lib/python3.10/dist-packages/IPython/core/events.py:89: UserWarning: Glyph 2375 (\\N{DEVANAGARI VOWEL SIGN E}) missing from current font.\n",
            "  func(*args, **kwargs)\n",
            "/usr/local/lib/python3.10/dist-packages/IPython/core/events.py:89: UserWarning: Glyph 2342 (\\N{DEVANAGARI LETTER DA}) missing from current font.\n",
            "  func(*args, **kwargs)\n",
            "/usr/local/lib/python3.10/dist-packages/IPython/core/events.py:89: UserWarning: Glyph 2340 (\\N{DEVANAGARI LETTER TA}) missing from current font.\n",
            "  func(*args, **kwargs)\n",
            "/usr/local/lib/python3.10/dist-packages/IPython/core/events.py:89: UserWarning: Glyph 2369 (\\N{DEVANAGARI VOWEL SIGN U}) missing from current font.\n",
            "  func(*args, **kwargs)\n",
            "/usr/local/lib/python3.10/dist-packages/IPython/core/events.py:89: UserWarning: Glyph 2338 (\\N{DEVANAGARI LETTER DDHA}) missing from current font.\n",
            "  func(*args, **kwargs)\n",
            "/usr/local/lib/python3.10/dist-packages/IPython/core/events.py:89: UserWarning: Glyph 2325 (\\N{DEVANAGARI LETTER KA}) missing from current font.\n",
            "  func(*args, **kwargs)\n",
            "/usr/local/lib/python3.10/dist-packages/IPython/core/events.py:89: UserWarning: Glyph 2361 (\\N{DEVANAGARI LETTER HA}) missing from current font.\n",
            "  func(*args, **kwargs)\n",
            "/usr/local/lib/python3.10/dist-packages/IPython/core/events.py:89: UserWarning: Glyph 2379 (\\N{DEVANAGARI VOWEL SIGN O}) missing from current font.\n",
            "  func(*args, **kwargs)\n",
            "/usr/local/lib/python3.10/dist-packages/IPython/core/events.py:89: UserWarning: Glyph 2344 (\\N{DEVANAGARI LETTER NA}) missing from current font.\n",
            "  func(*args, **kwargs)\n",
            "/usr/local/lib/python3.10/dist-packages/IPython/core/events.py:89: UserWarning: Glyph 2306 (\\N{DEVANAGARI SIGN ANUSVARA}) missing from current font.\n",
            "  func(*args, **kwargs)\n",
            "/usr/local/lib/python3.10/dist-packages/IPython/core/events.py:89: UserWarning: Glyph 2368 (\\N{DEVANAGARI VOWEL SIGN II}) missing from current font.\n",
            "  func(*args, **kwargs)\n",
            "/usr/local/lib/python3.10/dist-packages/IPython/core/events.py:89: UserWarning: Glyph 2360 (\\N{DEVANAGARI LETTER SA}) missing from current font.\n",
            "  func(*args, **kwargs)\n",
            "/usr/local/lib/python3.10/dist-packages/IPython/core/events.py:89: UserWarning: Glyph 2312 (\\N{DEVANAGARI LETTER II}) missing from current font.\n",
            "  func(*args, **kwargs)\n",
            "/usr/local/lib/python3.10/dist-packages/IPython/core/events.py:89: UserWarning: Glyph 2358 (\\N{DEVANAGARI LETTER SHA}) missing from current font.\n",
            "  func(*args, **kwargs)\n",
            "/usr/local/lib/python3.10/dist-packages/IPython/core/events.py:89: UserWarning: Glyph 2348 (\\N{DEVANAGARI LETTER BA}) missing from current font.\n",
            "  func(*args, **kwargs)\n",
            "/usr/local/lib/python3.10/dist-packages/IPython/core/events.py:89: UserWarning: Glyph 2337 (\\N{DEVANAGARI LETTER DDA}) missing from current font.\n",
            "  func(*args, **kwargs)\n",
            "/usr/local/lib/python3.10/dist-packages/IPython/core/events.py:89: UserWarning: Glyph 2357 (\\N{DEVANAGARI LETTER VA}) missing from current font.\n",
            "  func(*args, **kwargs)\n",
            "/usr/local/lib/python3.10/dist-packages/IPython/core/events.py:89: UserWarning: Glyph 2310 (\\N{DEVANAGARI LETTER AA}) missing from current font.\n",
            "  func(*args, **kwargs)\n",
            "/usr/local/lib/python3.10/dist-packages/IPython/core/events.py:89: UserWarning: Glyph 2339 (\\N{DEVANAGARI LETTER NNA}) missing from current font.\n",
            "  func(*args, **kwargs)\n",
            "/usr/local/lib/python3.10/dist-packages/IPython/core/events.py:89: UserWarning: Glyph 2354 (\\N{DEVANAGARI LETTER LA}) missing from current font.\n",
            "  func(*args, **kwargs)\n",
            "/usr/local/lib/python3.10/dist-packages/IPython/core/events.py:89: UserWarning: Glyph 2370 (\\N{DEVANAGARI VOWEL SIGN UU}) missing from current font.\n",
            "  func(*args, **kwargs)\n",
            "/usr/local/lib/python3.10/dist-packages/IPython/core/events.py:89: UserWarning: Glyph 2319 (\\N{DEVANAGARI LETTER E}) missing from current font.\n",
            "  func(*args, **kwargs)\n",
            "/usr/local/lib/python3.10/dist-packages/IPython/core/events.py:89: UserWarning: Glyph 2333 (\\N{DEVANAGARI LETTER JHA}) missing from current font.\n",
            "  func(*args, **kwargs)\n",
            "/usr/local/lib/python3.10/dist-packages/IPython/core/events.py:89: UserWarning: Glyph 2335 (\\N{DEVANAGARI LETTER TTA}) missing from current font.\n",
            "  func(*args, **kwargs)\n",
            "/usr/local/lib/python3.10/dist-packages/IPython/core/events.py:89: UserWarning: Glyph 2343 (\\N{DEVANAGARI LETTER DHA}) missing from current font.\n",
            "  func(*args, **kwargs)\n",
            "/usr/local/lib/python3.10/dist-packages/IPython/core/events.py:89: UserWarning: Glyph 2328 (\\N{DEVANAGARI LETTER GHA}) missing from current font.\n",
            "  func(*args, **kwargs)\n",
            "/usr/local/lib/python3.10/dist-packages/IPython/core/events.py:89: UserWarning: Glyph 2350 (\\N{DEVANAGARI LETTER MA}) missing from current font.\n",
            "  func(*args, **kwargs)\n",
            "/usr/local/lib/python3.10/dist-packages/IPython/core/events.py:89: UserWarning: Glyph 2327 (\\N{DEVANAGARI LETTER GA}) missing from current font.\n",
            "  func(*args, **kwargs)\n",
            "/usr/local/lib/python3.10/dist-packages/IPython/core/events.py:89: UserWarning: Glyph 2336 (\\N{DEVANAGARI LETTER TTHA}) missing from current font.\n",
            "  func(*args, **kwargs)\n",
            "/usr/local/lib/python3.10/dist-packages/IPython/core/events.py:89: UserWarning: Glyph 2332 (\\N{DEVANAGARI LETTER JA}) missing from current font.\n",
            "  func(*args, **kwargs)\n",
            "/usr/local/lib/python3.10/dist-packages/IPython/core/pylabtools.py:151: UserWarning: Glyph 2351 (\\N{DEVANAGARI LETTER YA}) missing from current font.\n",
            "  fig.canvas.print_figure(bytes_io, **kw)\n",
            "/usr/local/lib/python3.10/dist-packages/IPython/core/pylabtools.py:151: UserWarning: Matplotlib currently does not support Devanagari natively.\n",
            "  fig.canvas.print_figure(bytes_io, **kw)\n",
            "/usr/local/lib/python3.10/dist-packages/IPython/core/pylabtools.py:151: UserWarning: Glyph 2366 (\\N{DEVANAGARI VOWEL SIGN AA}) missing from current font.\n",
            "  fig.canvas.print_figure(bytes_io, **kw)\n",
            "/usr/local/lib/python3.10/dist-packages/IPython/core/pylabtools.py:151: UserWarning: Glyph 2346 (\\N{DEVANAGARI LETTER PA}) missing from current font.\n",
            "  fig.canvas.print_figure(bytes_io, **kw)\n",
            "/usr/local/lib/python3.10/dist-packages/IPython/core/pylabtools.py:151: UserWarning: Glyph 2352 (\\N{DEVANAGARI LETTER RA}) missing from current font.\n",
            "  fig.canvas.print_figure(bytes_io, **kw)\n",
            "/usr/local/lib/python3.10/dist-packages/IPython/core/pylabtools.py:151: UserWarning: Glyph 2367 (\\N{DEVANAGARI VOWEL SIGN I}) missing from current font.\n",
            "  fig.canvas.print_figure(bytes_io, **kw)\n",
            "/usr/local/lib/python3.10/dist-packages/IPython/core/pylabtools.py:151: UserWarning: Glyph 2330 (\\N{DEVANAGARI LETTER CA}) missing from current font.\n",
            "  fig.canvas.print_figure(bytes_io, **kw)\n",
            "/usr/local/lib/python3.10/dist-packages/IPython/core/pylabtools.py:151: UserWarning: Glyph 2381 (\\N{DEVANAGARI SIGN VIRAMA}) missing from current font.\n",
            "  fig.canvas.print_figure(bytes_io, **kw)\n",
            "/usr/local/lib/python3.10/dist-packages/IPython/core/pylabtools.py:151: UserWarning: Glyph 2331 (\\N{DEVANAGARI LETTER CHA}) missing from current font.\n",
            "  fig.canvas.print_figure(bytes_io, **kw)\n",
            "/usr/local/lib/python3.10/dist-packages/IPython/core/pylabtools.py:151: UserWarning: Glyph 2375 (\\N{DEVANAGARI VOWEL SIGN E}) missing from current font.\n",
            "  fig.canvas.print_figure(bytes_io, **kw)\n",
            "/usr/local/lib/python3.10/dist-packages/IPython/core/pylabtools.py:151: UserWarning: Glyph 2342 (\\N{DEVANAGARI LETTER DA}) missing from current font.\n",
            "  fig.canvas.print_figure(bytes_io, **kw)\n",
            "/usr/local/lib/python3.10/dist-packages/IPython/core/pylabtools.py:151: UserWarning: Glyph 2340 (\\N{DEVANAGARI LETTER TA}) missing from current font.\n",
            "  fig.canvas.print_figure(bytes_io, **kw)\n",
            "/usr/local/lib/python3.10/dist-packages/IPython/core/pylabtools.py:151: UserWarning: Glyph 2369 (\\N{DEVANAGARI VOWEL SIGN U}) missing from current font.\n",
            "  fig.canvas.print_figure(bytes_io, **kw)\n",
            "/usr/local/lib/python3.10/dist-packages/IPython/core/pylabtools.py:151: UserWarning: Glyph 2338 (\\N{DEVANAGARI LETTER DDHA}) missing from current font.\n",
            "  fig.canvas.print_figure(bytes_io, **kw)\n",
            "/usr/local/lib/python3.10/dist-packages/IPython/core/pylabtools.py:151: UserWarning: Glyph 2325 (\\N{DEVANAGARI LETTER KA}) missing from current font.\n",
            "  fig.canvas.print_figure(bytes_io, **kw)\n",
            "/usr/local/lib/python3.10/dist-packages/IPython/core/pylabtools.py:151: UserWarning: Glyph 2361 (\\N{DEVANAGARI LETTER HA}) missing from current font.\n",
            "  fig.canvas.print_figure(bytes_io, **kw)\n",
            "/usr/local/lib/python3.10/dist-packages/IPython/core/pylabtools.py:151: UserWarning: Glyph 2379 (\\N{DEVANAGARI VOWEL SIGN O}) missing from current font.\n",
            "  fig.canvas.print_figure(bytes_io, **kw)\n",
            "/usr/local/lib/python3.10/dist-packages/IPython/core/pylabtools.py:151: UserWarning: Glyph 2344 (\\N{DEVANAGARI LETTER NA}) missing from current font.\n",
            "  fig.canvas.print_figure(bytes_io, **kw)\n",
            "/usr/local/lib/python3.10/dist-packages/IPython/core/pylabtools.py:151: UserWarning: Glyph 2306 (\\N{DEVANAGARI SIGN ANUSVARA}) missing from current font.\n",
            "  fig.canvas.print_figure(bytes_io, **kw)\n",
            "/usr/local/lib/python3.10/dist-packages/IPython/core/pylabtools.py:151: UserWarning: Glyph 2368 (\\N{DEVANAGARI VOWEL SIGN II}) missing from current font.\n",
            "  fig.canvas.print_figure(bytes_io, **kw)\n",
            "/usr/local/lib/python3.10/dist-packages/IPython/core/pylabtools.py:151: UserWarning: Glyph 2360 (\\N{DEVANAGARI LETTER SA}) missing from current font.\n",
            "  fig.canvas.print_figure(bytes_io, **kw)\n",
            "/usr/local/lib/python3.10/dist-packages/IPython/core/pylabtools.py:151: UserWarning: Glyph 2312 (\\N{DEVANAGARI LETTER II}) missing from current font.\n",
            "  fig.canvas.print_figure(bytes_io, **kw)\n",
            "/usr/local/lib/python3.10/dist-packages/IPython/core/pylabtools.py:151: UserWarning: Glyph 2358 (\\N{DEVANAGARI LETTER SHA}) missing from current font.\n",
            "  fig.canvas.print_figure(bytes_io, **kw)\n",
            "/usr/local/lib/python3.10/dist-packages/IPython/core/pylabtools.py:151: UserWarning: Glyph 2348 (\\N{DEVANAGARI LETTER BA}) missing from current font.\n",
            "  fig.canvas.print_figure(bytes_io, **kw)\n",
            "/usr/local/lib/python3.10/dist-packages/IPython/core/pylabtools.py:151: UserWarning: Glyph 2337 (\\N{DEVANAGARI LETTER DDA}) missing from current font.\n",
            "  fig.canvas.print_figure(bytes_io, **kw)\n",
            "/usr/local/lib/python3.10/dist-packages/IPython/core/pylabtools.py:151: UserWarning: Glyph 2357 (\\N{DEVANAGARI LETTER VA}) missing from current font.\n",
            "  fig.canvas.print_figure(bytes_io, **kw)\n",
            "/usr/local/lib/python3.10/dist-packages/IPython/core/pylabtools.py:151: UserWarning: Glyph 2310 (\\N{DEVANAGARI LETTER AA}) missing from current font.\n",
            "  fig.canvas.print_figure(bytes_io, **kw)\n",
            "/usr/local/lib/python3.10/dist-packages/IPython/core/pylabtools.py:151: UserWarning: Glyph 2339 (\\N{DEVANAGARI LETTER NNA}) missing from current font.\n",
            "  fig.canvas.print_figure(bytes_io, **kw)\n",
            "/usr/local/lib/python3.10/dist-packages/IPython/core/pylabtools.py:151: UserWarning: Glyph 2354 (\\N{DEVANAGARI LETTER LA}) missing from current font.\n",
            "  fig.canvas.print_figure(bytes_io, **kw)\n",
            "/usr/local/lib/python3.10/dist-packages/IPython/core/pylabtools.py:151: UserWarning: Glyph 2370 (\\N{DEVANAGARI VOWEL SIGN UU}) missing from current font.\n",
            "  fig.canvas.print_figure(bytes_io, **kw)\n",
            "/usr/local/lib/python3.10/dist-packages/IPython/core/pylabtools.py:151: UserWarning: Glyph 2319 (\\N{DEVANAGARI LETTER E}) missing from current font.\n",
            "  fig.canvas.print_figure(bytes_io, **kw)\n",
            "/usr/local/lib/python3.10/dist-packages/IPython/core/pylabtools.py:151: UserWarning: Glyph 2333 (\\N{DEVANAGARI LETTER JHA}) missing from current font.\n",
            "  fig.canvas.print_figure(bytes_io, **kw)\n",
            "/usr/local/lib/python3.10/dist-packages/IPython/core/pylabtools.py:151: UserWarning: Glyph 2335 (\\N{DEVANAGARI LETTER TTA}) missing from current font.\n",
            "  fig.canvas.print_figure(bytes_io, **kw)\n",
            "/usr/local/lib/python3.10/dist-packages/IPython/core/pylabtools.py:151: UserWarning: Glyph 2343 (\\N{DEVANAGARI LETTER DHA}) missing from current font.\n",
            "  fig.canvas.print_figure(bytes_io, **kw)\n",
            "/usr/local/lib/python3.10/dist-packages/IPython/core/pylabtools.py:151: UserWarning: Glyph 2328 (\\N{DEVANAGARI LETTER GHA}) missing from current font.\n",
            "  fig.canvas.print_figure(bytes_io, **kw)\n",
            "/usr/local/lib/python3.10/dist-packages/IPython/core/pylabtools.py:151: UserWarning: Glyph 2350 (\\N{DEVANAGARI LETTER MA}) missing from current font.\n",
            "  fig.canvas.print_figure(bytes_io, **kw)\n",
            "/usr/local/lib/python3.10/dist-packages/IPython/core/pylabtools.py:151: UserWarning: Glyph 2327 (\\N{DEVANAGARI LETTER GA}) missing from current font.\n",
            "  fig.canvas.print_figure(bytes_io, **kw)\n",
            "/usr/local/lib/python3.10/dist-packages/IPython/core/pylabtools.py:151: UserWarning: Glyph 2336 (\\N{DEVANAGARI LETTER TTHA}) missing from current font.\n",
            "  fig.canvas.print_figure(bytes_io, **kw)\n",
            "/usr/local/lib/python3.10/dist-packages/IPython/core/pylabtools.py:151: UserWarning: Glyph 2332 (\\N{DEVANAGARI LETTER JA}) missing from current font.\n",
            "  fig.canvas.print_figure(bytes_io, **kw)\n"
          ]
        },
        {
          "output_type": "display_data",
          "data": {
            "text/plain": [
              "<Figure size 640x480 with 1 Axes>"
            ],
            "image/png": "[encoded data removed]"
          },
          "metadata": {}
        }
      ],
      "source": [
        "s=start_probs.detach().numpy().flatten()\n",
        "ax=sns.barplot(x=token_to_ids,y=s,ci=None)\n",
        "ax.set_xticklabels(ax.get_xticklabels(), rotation=90, ha=\"center\")\n",
        "ax.grid(True)"
      ]
    }
  ],
  "metadata": {
    "colab": {
      "provenance": []
    },
    "kernelspec": {
      "display_name": "Python 3",
      "name": "python3"
    },
    "language_info": {
      "name": "python"
    }
  },
  "nbformat": 4,
  "nbformat_minor": 0
}